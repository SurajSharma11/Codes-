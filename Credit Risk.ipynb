{
 "cells": [
  {
   "cell_type": "markdown",
   "metadata": {},
   "source": [
    "# IMPORT LIBRARIES"
   ]
  },
  {
   "cell_type": "code",
   "execution_count": 1,
   "metadata": {},
   "outputs": [],
   "source": [
    "#IMPORT REQUIRED LIBRARIES \n",
    "\n",
    "import pandas as pd\n",
    "import numpy as np \n",
    "import matplotlib.pyplot as plt\n",
    "import seaborn as sns "
   ]
  },
  {
   "cell_type": "markdown",
   "metadata": {},
   "source": [
    "# READ DATA "
   ]
  },
  {
   "cell_type": "code",
   "execution_count": 2,
   "metadata": {},
   "outputs": [],
   "source": [
    "#READING THE DATA \n",
    "\n",
    "german_data = pd.read_csv(\"german_data.txt\",delim_whitespace = True,header=None)"
   ]
  },
  {
   "cell_type": "code",
   "execution_count": 3,
   "metadata": {
    "scrolled": true
   },
   "outputs": [
    {
     "data": {
      "text/html": [
       "<div>\n",
       "<style scoped>\n",
       "    .dataframe tbody tr th:only-of-type {\n",
       "        vertical-align: middle;\n",
       "    }\n",
       "\n",
       "    .dataframe tbody tr th {\n",
       "        vertical-align: top;\n",
       "    }\n",
       "\n",
       "    .dataframe thead th {\n",
       "        text-align: right;\n",
       "    }\n",
       "</style>\n",
       "<table border=\"1\" class=\"dataframe\">\n",
       "  <thead>\n",
       "    <tr style=\"text-align: right;\">\n",
       "      <th></th>\n",
       "      <th>0</th>\n",
       "      <th>1</th>\n",
       "      <th>2</th>\n",
       "      <th>3</th>\n",
       "      <th>4</th>\n",
       "      <th>5</th>\n",
       "      <th>6</th>\n",
       "      <th>7</th>\n",
       "      <th>8</th>\n",
       "      <th>9</th>\n",
       "      <th>...</th>\n",
       "      <th>11</th>\n",
       "      <th>12</th>\n",
       "      <th>13</th>\n",
       "      <th>14</th>\n",
       "      <th>15</th>\n",
       "      <th>16</th>\n",
       "      <th>17</th>\n",
       "      <th>18</th>\n",
       "      <th>19</th>\n",
       "      <th>20</th>\n",
       "    </tr>\n",
       "  </thead>\n",
       "  <tbody>\n",
       "    <tr>\n",
       "      <th>0</th>\n",
       "      <td>A11</td>\n",
       "      <td>6</td>\n",
       "      <td>A34</td>\n",
       "      <td>A43</td>\n",
       "      <td>1169</td>\n",
       "      <td>A65</td>\n",
       "      <td>A75</td>\n",
       "      <td>4</td>\n",
       "      <td>A93</td>\n",
       "      <td>A101</td>\n",
       "      <td>...</td>\n",
       "      <td>A121</td>\n",
       "      <td>67</td>\n",
       "      <td>A143</td>\n",
       "      <td>A152</td>\n",
       "      <td>2</td>\n",
       "      <td>A173</td>\n",
       "      <td>1</td>\n",
       "      <td>A192</td>\n",
       "      <td>A201</td>\n",
       "      <td>1</td>\n",
       "    </tr>\n",
       "    <tr>\n",
       "      <th>1</th>\n",
       "      <td>A12</td>\n",
       "      <td>48</td>\n",
       "      <td>A32</td>\n",
       "      <td>A43</td>\n",
       "      <td>5951</td>\n",
       "      <td>A61</td>\n",
       "      <td>A73</td>\n",
       "      <td>2</td>\n",
       "      <td>A92</td>\n",
       "      <td>A101</td>\n",
       "      <td>...</td>\n",
       "      <td>A121</td>\n",
       "      <td>22</td>\n",
       "      <td>A143</td>\n",
       "      <td>A152</td>\n",
       "      <td>1</td>\n",
       "      <td>A173</td>\n",
       "      <td>1</td>\n",
       "      <td>A191</td>\n",
       "      <td>A201</td>\n",
       "      <td>2</td>\n",
       "    </tr>\n",
       "    <tr>\n",
       "      <th>2</th>\n",
       "      <td>A14</td>\n",
       "      <td>12</td>\n",
       "      <td>A34</td>\n",
       "      <td>A46</td>\n",
       "      <td>2096</td>\n",
       "      <td>A61</td>\n",
       "      <td>A74</td>\n",
       "      <td>2</td>\n",
       "      <td>A93</td>\n",
       "      <td>A101</td>\n",
       "      <td>...</td>\n",
       "      <td>A121</td>\n",
       "      <td>49</td>\n",
       "      <td>A143</td>\n",
       "      <td>A152</td>\n",
       "      <td>1</td>\n",
       "      <td>A172</td>\n",
       "      <td>2</td>\n",
       "      <td>A191</td>\n",
       "      <td>A201</td>\n",
       "      <td>1</td>\n",
       "    </tr>\n",
       "    <tr>\n",
       "      <th>3</th>\n",
       "      <td>A11</td>\n",
       "      <td>42</td>\n",
       "      <td>A32</td>\n",
       "      <td>A42</td>\n",
       "      <td>7882</td>\n",
       "      <td>A61</td>\n",
       "      <td>A74</td>\n",
       "      <td>2</td>\n",
       "      <td>A93</td>\n",
       "      <td>A103</td>\n",
       "      <td>...</td>\n",
       "      <td>A122</td>\n",
       "      <td>45</td>\n",
       "      <td>A143</td>\n",
       "      <td>A153</td>\n",
       "      <td>1</td>\n",
       "      <td>A173</td>\n",
       "      <td>2</td>\n",
       "      <td>A191</td>\n",
       "      <td>A201</td>\n",
       "      <td>1</td>\n",
       "    </tr>\n",
       "    <tr>\n",
       "      <th>4</th>\n",
       "      <td>A11</td>\n",
       "      <td>24</td>\n",
       "      <td>A33</td>\n",
       "      <td>A40</td>\n",
       "      <td>4870</td>\n",
       "      <td>A61</td>\n",
       "      <td>A73</td>\n",
       "      <td>3</td>\n",
       "      <td>A93</td>\n",
       "      <td>A101</td>\n",
       "      <td>...</td>\n",
       "      <td>A124</td>\n",
       "      <td>53</td>\n",
       "      <td>A143</td>\n",
       "      <td>A153</td>\n",
       "      <td>2</td>\n",
       "      <td>A173</td>\n",
       "      <td>2</td>\n",
       "      <td>A191</td>\n",
       "      <td>A201</td>\n",
       "      <td>2</td>\n",
       "    </tr>\n",
       "  </tbody>\n",
       "</table>\n",
       "<p>5 rows × 21 columns</p>\n",
       "</div>"
      ],
      "text/plain": [
       "    0   1    2    3     4    5    6   7    8     9  ...    11  12    13    14  \\\n",
       "0  A11   6  A34  A43  1169  A65  A75   4  A93  A101 ...  A121  67  A143  A152   \n",
       "1  A12  48  A32  A43  5951  A61  A73   2  A92  A101 ...  A121  22  A143  A152   \n",
       "2  A14  12  A34  A46  2096  A61  A74   2  A93  A101 ...  A121  49  A143  A152   \n",
       "3  A11  42  A32  A42  7882  A61  A74   2  A93  A103 ...  A122  45  A143  A153   \n",
       "4  A11  24  A33  A40  4870  A61  A73   3  A93  A101 ...  A124  53  A143  A153   \n",
       "\n",
       "  15    16 17    18    19 20  \n",
       "0  2  A173  1  A192  A201  1  \n",
       "1  1  A173  1  A191  A201  2  \n",
       "2  1  A172  2  A191  A201  1  \n",
       "3  1  A173  2  A191  A201  1  \n",
       "4  2  A173  2  A191  A201  2  \n",
       "\n",
       "[5 rows x 21 columns]"
      ]
     },
     "execution_count": 3,
     "metadata": {},
     "output_type": "execute_result"
    }
   ],
   "source": [
    "#HEAD OF THE DATA\n",
    "\n",
    "german_data.head()"
   ]
  },
  {
   "cell_type": "markdown",
   "metadata": {},
   "source": [
    "# PREPROCESSING"
   ]
  },
  {
   "cell_type": "code",
   "execution_count": 4,
   "metadata": {},
   "outputs": [],
   "source": [
    "#COLUMN NAMES FROM THE DATA DESCRIPTION\n",
    "\n",
    "columns = ['checkin_acc', 'duration', 'credit_history', 'purpose', 'amount',\n",
    "         'saving_acc', 'present_emp_since', 'inst_rate', 'personal_status',\n",
    "         'other_debtors', 'residing_since', 'property', 'age',\n",
    "         'inst_plans', 'housing', 'num_credits',\n",
    "         'job', 'dependents', 'telephone', 'foreign_worker', 'status']"
   ]
  },
  {
   "cell_type": "code",
   "execution_count": 5,
   "metadata": {},
   "outputs": [],
   "source": [
    "german_data.columns = columns"
   ]
  },
  {
   "cell_type": "code",
   "execution_count": 6,
   "metadata": {},
   "outputs": [
    {
     "data": {
      "text/html": [
       "<div>\n",
       "<style scoped>\n",
       "    .dataframe tbody tr th:only-of-type {\n",
       "        vertical-align: middle;\n",
       "    }\n",
       "\n",
       "    .dataframe tbody tr th {\n",
       "        vertical-align: top;\n",
       "    }\n",
       "\n",
       "    .dataframe thead th {\n",
       "        text-align: right;\n",
       "    }\n",
       "</style>\n",
       "<table border=\"1\" class=\"dataframe\">\n",
       "  <thead>\n",
       "    <tr style=\"text-align: right;\">\n",
       "      <th></th>\n",
       "      <th>checkin_acc</th>\n",
       "      <th>duration</th>\n",
       "      <th>credit_history</th>\n",
       "      <th>purpose</th>\n",
       "      <th>amount</th>\n",
       "      <th>saving_acc</th>\n",
       "      <th>present_emp_since</th>\n",
       "      <th>inst_rate</th>\n",
       "      <th>personal_status</th>\n",
       "      <th>other_debtors</th>\n",
       "      <th>...</th>\n",
       "      <th>property</th>\n",
       "      <th>age</th>\n",
       "      <th>inst_plans</th>\n",
       "      <th>housing</th>\n",
       "      <th>num_credits</th>\n",
       "      <th>job</th>\n",
       "      <th>dependents</th>\n",
       "      <th>telephone</th>\n",
       "      <th>foreign_worker</th>\n",
       "      <th>status</th>\n",
       "    </tr>\n",
       "  </thead>\n",
       "  <tbody>\n",
       "    <tr>\n",
       "      <th>0</th>\n",
       "      <td>A11</td>\n",
       "      <td>6</td>\n",
       "      <td>A34</td>\n",
       "      <td>A43</td>\n",
       "      <td>1169</td>\n",
       "      <td>A65</td>\n",
       "      <td>A75</td>\n",
       "      <td>4</td>\n",
       "      <td>A93</td>\n",
       "      <td>A101</td>\n",
       "      <td>...</td>\n",
       "      <td>A121</td>\n",
       "      <td>67</td>\n",
       "      <td>A143</td>\n",
       "      <td>A152</td>\n",
       "      <td>2</td>\n",
       "      <td>A173</td>\n",
       "      <td>1</td>\n",
       "      <td>A192</td>\n",
       "      <td>A201</td>\n",
       "      <td>1</td>\n",
       "    </tr>\n",
       "    <tr>\n",
       "      <th>1</th>\n",
       "      <td>A12</td>\n",
       "      <td>48</td>\n",
       "      <td>A32</td>\n",
       "      <td>A43</td>\n",
       "      <td>5951</td>\n",
       "      <td>A61</td>\n",
       "      <td>A73</td>\n",
       "      <td>2</td>\n",
       "      <td>A92</td>\n",
       "      <td>A101</td>\n",
       "      <td>...</td>\n",
       "      <td>A121</td>\n",
       "      <td>22</td>\n",
       "      <td>A143</td>\n",
       "      <td>A152</td>\n",
       "      <td>1</td>\n",
       "      <td>A173</td>\n",
       "      <td>1</td>\n",
       "      <td>A191</td>\n",
       "      <td>A201</td>\n",
       "      <td>2</td>\n",
       "    </tr>\n",
       "    <tr>\n",
       "      <th>2</th>\n",
       "      <td>A14</td>\n",
       "      <td>12</td>\n",
       "      <td>A34</td>\n",
       "      <td>A46</td>\n",
       "      <td>2096</td>\n",
       "      <td>A61</td>\n",
       "      <td>A74</td>\n",
       "      <td>2</td>\n",
       "      <td>A93</td>\n",
       "      <td>A101</td>\n",
       "      <td>...</td>\n",
       "      <td>A121</td>\n",
       "      <td>49</td>\n",
       "      <td>A143</td>\n",
       "      <td>A152</td>\n",
       "      <td>1</td>\n",
       "      <td>A172</td>\n",
       "      <td>2</td>\n",
       "      <td>A191</td>\n",
       "      <td>A201</td>\n",
       "      <td>1</td>\n",
       "    </tr>\n",
       "    <tr>\n",
       "      <th>3</th>\n",
       "      <td>A11</td>\n",
       "      <td>42</td>\n",
       "      <td>A32</td>\n",
       "      <td>A42</td>\n",
       "      <td>7882</td>\n",
       "      <td>A61</td>\n",
       "      <td>A74</td>\n",
       "      <td>2</td>\n",
       "      <td>A93</td>\n",
       "      <td>A103</td>\n",
       "      <td>...</td>\n",
       "      <td>A122</td>\n",
       "      <td>45</td>\n",
       "      <td>A143</td>\n",
       "      <td>A153</td>\n",
       "      <td>1</td>\n",
       "      <td>A173</td>\n",
       "      <td>2</td>\n",
       "      <td>A191</td>\n",
       "      <td>A201</td>\n",
       "      <td>1</td>\n",
       "    </tr>\n",
       "    <tr>\n",
       "      <th>4</th>\n",
       "      <td>A11</td>\n",
       "      <td>24</td>\n",
       "      <td>A33</td>\n",
       "      <td>A40</td>\n",
       "      <td>4870</td>\n",
       "      <td>A61</td>\n",
       "      <td>A73</td>\n",
       "      <td>3</td>\n",
       "      <td>A93</td>\n",
       "      <td>A101</td>\n",
       "      <td>...</td>\n",
       "      <td>A124</td>\n",
       "      <td>53</td>\n",
       "      <td>A143</td>\n",
       "      <td>A153</td>\n",
       "      <td>2</td>\n",
       "      <td>A173</td>\n",
       "      <td>2</td>\n",
       "      <td>A191</td>\n",
       "      <td>A201</td>\n",
       "      <td>2</td>\n",
       "    </tr>\n",
       "  </tbody>\n",
       "</table>\n",
       "<p>5 rows × 21 columns</p>\n",
       "</div>"
      ],
      "text/plain": [
       "  checkin_acc  duration credit_history purpose  amount saving_acc  \\\n",
       "0         A11         6            A34     A43    1169        A65   \n",
       "1         A12        48            A32     A43    5951        A61   \n",
       "2         A14        12            A34     A46    2096        A61   \n",
       "3         A11        42            A32     A42    7882        A61   \n",
       "4         A11        24            A33     A40    4870        A61   \n",
       "\n",
       "  present_emp_since  inst_rate personal_status other_debtors  ...    property  \\\n",
       "0               A75          4             A93          A101  ...        A121   \n",
       "1               A73          2             A92          A101  ...        A121   \n",
       "2               A74          2             A93          A101  ...        A121   \n",
       "3               A74          2             A93          A103  ...        A122   \n",
       "4               A73          3             A93          A101  ...        A124   \n",
       "\n",
       "  age  inst_plans housing num_credits   job dependents  telephone  \\\n",
       "0  67        A143    A152           2  A173          1       A192   \n",
       "1  22        A143    A152           1  A173          1       A191   \n",
       "2  49        A143    A152           1  A172          2       A191   \n",
       "3  45        A143    A153           1  A173          2       A191   \n",
       "4  53        A143    A153           2  A173          2       A191   \n",
       "\n",
       "  foreign_worker status  \n",
       "0           A201      1  \n",
       "1           A201      2  \n",
       "2           A201      1  \n",
       "3           A201      1  \n",
       "4           A201      2  \n",
       "\n",
       "[5 rows x 21 columns]"
      ]
     },
     "execution_count": 6,
     "metadata": {},
     "output_type": "execute_result"
    }
   ],
   "source": [
    "german_data.head()"
   ]
  },
  {
   "cell_type": "code",
   "execution_count": 7,
   "metadata": {},
   "outputs": [
    {
     "name": "stdout",
     "output_type": "stream",
     "text": [
      "<class 'pandas.core.frame.DataFrame'>\n",
      "RangeIndex: 1000 entries, 0 to 999\n",
      "Data columns (total 21 columns):\n",
      "checkin_acc          1000 non-null object\n",
      "duration             1000 non-null int64\n",
      "credit_history       1000 non-null object\n",
      "purpose              1000 non-null object\n",
      "amount               1000 non-null int64\n",
      "saving_acc           1000 non-null object\n",
      "present_emp_since    1000 non-null object\n",
      "inst_rate            1000 non-null int64\n",
      "personal_status      1000 non-null object\n",
      "other_debtors        1000 non-null object\n",
      "residing_since       1000 non-null int64\n",
      "property             1000 non-null object\n",
      "age                  1000 non-null int64\n",
      "inst_plans           1000 non-null object\n",
      "housing              1000 non-null object\n",
      "num_credits          1000 non-null int64\n",
      "job                  1000 non-null object\n",
      "dependents           1000 non-null int64\n",
      "telephone            1000 non-null object\n",
      "foreign_worker       1000 non-null object\n",
      "status               1000 non-null int64\n",
      "dtypes: int64(8), object(13)\n",
      "memory usage: 164.1+ KB\n"
     ]
    }
   ],
   "source": [
    "german_data.info()"
   ]
  },
  {
   "cell_type": "code",
   "execution_count": 8,
   "metadata": {},
   "outputs": [],
   "source": [
    "#MAPPING THE OBJECT TYPES WITH VALUES EASY TO UNDERSTAND \n",
    "\n",
    "\n",
    "german_data[\"checkin_acc\"] = german_data[\"checkin_acc\"].map({\"A11\":\"negative\",\"A12\":\"little\",\"A13\":\"moderate\",\"A14\":\"no account\"})\n",
    "\n",
    "german_data[\"credit_history\"] = german_data[\"credit_history\"].map({\"A30\":\"no credit history\",\"A31\":\"all credit paid at bank\",\"A32\":\"existing credits paid\",\"A34\":\"credits due\"})\n",
    "\n",
    "german_data[\"purpose\"] = german_data[\"purpose\"].map({\"A40\":\"car(new)\",\"A41\":\"car(used)\",\"A42\":\"furniture/equipment\",\"A43\":\"radio/television\",\"A44\":\"domestic appliances\",\"A45\":\"repairs\",\"A46\":\"education\",\"A47\":\"vacation - does not exist?\",\"A48\":\"retraining\",\"A49\":\"business\",\"A410\":\"others\"})\n",
    "\n",
    "german_data[\"saving_acc\"] = german_data[\"saving_acc\"].map({\"A61\":\"little\",\"A62\":\"moderate\",\"A63\":\"rich\",\"A64\":\"very rich\",\"A65\":\"no account\"})\n",
    "\n",
    "german_data[\"present_emp_since\"] = german_data[\"present_emp_since\"].map({\"A71\":\"unemployed\",\"A72\":\"less than 1\",\"A73\":\"1-4 years\",\"A74\":\"4-7 years\",\"A75\":\"more than 7\"})\n",
    "\n",
    "german_data[\"personal_status\"] = german_data[\"personal_status\"].map({\"A91\":\"male:divorced/seperated\",\"A92\":\"female:divorced/seperated/widowed\",\"A93\":\"male:single\",\"A94\":\"male:married/widowed\",\"A95\":\"female:single\"})\n",
    "\n",
    "german_data[\"other_debtors\"] = german_data[\"other_debtors\"].map({\"A101\":\"none\",\"A102\":\"co-applicant\",\"A103\":\"guarantor\"})\n",
    "\n",
    "german_data[\"property\"] = german_data[\"property\"].map({\"A121\":\"real estate\",\"A122\":\"building society/life insurance\",\"A123\":\"car or not\",\"A124\":\"no property\"})\n",
    "\n",
    "german_data[\"inst_plans\"] = german_data[\"inst_plans\"].map({\"A141\":\"bank\",\"A142\":\"stores\",\"A143\":\"none\"})\n",
    "\n",
    "german_data[\"housing\"] = german_data[\"housing\"].map({\"A151\":\"rent\",\"A152\":\"own\",\"A153\":\"for free\"})\n",
    "\n",
    "german_data[\"job\"] = german_data[\"job\"].map({\"A171\":\"unemployed/unskilled-NR\",\"A172\":\"unskilled-R\",\"A173\":\"skilled/official\",\"A174\":\"Highly skilled/management\"})\n",
    "\n",
    "german_data[\"telephone\"] = german_data[\"telephone\"].map({\"A191\":\"no\",\"A192\":\"yes\"})\n",
    "\n",
    "german_data[\"foreign_worker\"] = german_data[\"foreign_worker\"].map({\"A201\":\"yes\",\"A202\":\"no\"})"
   ]
  },
  {
   "cell_type": "code",
   "execution_count": 9,
   "metadata": {},
   "outputs": [
    {
     "data": {
      "text/html": [
       "<div>\n",
       "<style scoped>\n",
       "    .dataframe tbody tr th:only-of-type {\n",
       "        vertical-align: middle;\n",
       "    }\n",
       "\n",
       "    .dataframe tbody tr th {\n",
       "        vertical-align: top;\n",
       "    }\n",
       "\n",
       "    .dataframe thead th {\n",
       "        text-align: right;\n",
       "    }\n",
       "</style>\n",
       "<table border=\"1\" class=\"dataframe\">\n",
       "  <thead>\n",
       "    <tr style=\"text-align: right;\">\n",
       "      <th></th>\n",
       "      <th>checkin_acc</th>\n",
       "      <th>duration</th>\n",
       "      <th>credit_history</th>\n",
       "      <th>purpose</th>\n",
       "      <th>amount</th>\n",
       "      <th>saving_acc</th>\n",
       "      <th>present_emp_since</th>\n",
       "      <th>inst_rate</th>\n",
       "      <th>personal_status</th>\n",
       "      <th>other_debtors</th>\n",
       "      <th>...</th>\n",
       "      <th>property</th>\n",
       "      <th>age</th>\n",
       "      <th>inst_plans</th>\n",
       "      <th>housing</th>\n",
       "      <th>num_credits</th>\n",
       "      <th>job</th>\n",
       "      <th>dependents</th>\n",
       "      <th>telephone</th>\n",
       "      <th>foreign_worker</th>\n",
       "      <th>status</th>\n",
       "    </tr>\n",
       "  </thead>\n",
       "  <tbody>\n",
       "    <tr>\n",
       "      <th>0</th>\n",
       "      <td>negative</td>\n",
       "      <td>6</td>\n",
       "      <td>credits due</td>\n",
       "      <td>radio/television</td>\n",
       "      <td>1169</td>\n",
       "      <td>no account</td>\n",
       "      <td>more than 7</td>\n",
       "      <td>4</td>\n",
       "      <td>male:single</td>\n",
       "      <td>none</td>\n",
       "      <td>...</td>\n",
       "      <td>real estate</td>\n",
       "      <td>67</td>\n",
       "      <td>none</td>\n",
       "      <td>own</td>\n",
       "      <td>2</td>\n",
       "      <td>skilled/official</td>\n",
       "      <td>1</td>\n",
       "      <td>yes</td>\n",
       "      <td>yes</td>\n",
       "      <td>1</td>\n",
       "    </tr>\n",
       "    <tr>\n",
       "      <th>1</th>\n",
       "      <td>little</td>\n",
       "      <td>48</td>\n",
       "      <td>existing credits paid</td>\n",
       "      <td>radio/television</td>\n",
       "      <td>5951</td>\n",
       "      <td>little</td>\n",
       "      <td>1-4 years</td>\n",
       "      <td>2</td>\n",
       "      <td>female:divorced/seperated/widowed</td>\n",
       "      <td>none</td>\n",
       "      <td>...</td>\n",
       "      <td>real estate</td>\n",
       "      <td>22</td>\n",
       "      <td>none</td>\n",
       "      <td>own</td>\n",
       "      <td>1</td>\n",
       "      <td>skilled/official</td>\n",
       "      <td>1</td>\n",
       "      <td>no</td>\n",
       "      <td>yes</td>\n",
       "      <td>2</td>\n",
       "    </tr>\n",
       "    <tr>\n",
       "      <th>2</th>\n",
       "      <td>no account</td>\n",
       "      <td>12</td>\n",
       "      <td>credits due</td>\n",
       "      <td>education</td>\n",
       "      <td>2096</td>\n",
       "      <td>little</td>\n",
       "      <td>4-7 years</td>\n",
       "      <td>2</td>\n",
       "      <td>male:single</td>\n",
       "      <td>none</td>\n",
       "      <td>...</td>\n",
       "      <td>real estate</td>\n",
       "      <td>49</td>\n",
       "      <td>none</td>\n",
       "      <td>own</td>\n",
       "      <td>1</td>\n",
       "      <td>unskilled-R</td>\n",
       "      <td>2</td>\n",
       "      <td>no</td>\n",
       "      <td>yes</td>\n",
       "      <td>1</td>\n",
       "    </tr>\n",
       "    <tr>\n",
       "      <th>3</th>\n",
       "      <td>negative</td>\n",
       "      <td>42</td>\n",
       "      <td>existing credits paid</td>\n",
       "      <td>furniture/equipment</td>\n",
       "      <td>7882</td>\n",
       "      <td>little</td>\n",
       "      <td>4-7 years</td>\n",
       "      <td>2</td>\n",
       "      <td>male:single</td>\n",
       "      <td>guarantor</td>\n",
       "      <td>...</td>\n",
       "      <td>building society/life insurance</td>\n",
       "      <td>45</td>\n",
       "      <td>none</td>\n",
       "      <td>for free</td>\n",
       "      <td>1</td>\n",
       "      <td>skilled/official</td>\n",
       "      <td>2</td>\n",
       "      <td>no</td>\n",
       "      <td>yes</td>\n",
       "      <td>1</td>\n",
       "    </tr>\n",
       "    <tr>\n",
       "      <th>4</th>\n",
       "      <td>negative</td>\n",
       "      <td>24</td>\n",
       "      <td>NaN</td>\n",
       "      <td>car(new)</td>\n",
       "      <td>4870</td>\n",
       "      <td>little</td>\n",
       "      <td>1-4 years</td>\n",
       "      <td>3</td>\n",
       "      <td>male:single</td>\n",
       "      <td>none</td>\n",
       "      <td>...</td>\n",
       "      <td>no property</td>\n",
       "      <td>53</td>\n",
       "      <td>none</td>\n",
       "      <td>for free</td>\n",
       "      <td>2</td>\n",
       "      <td>skilled/official</td>\n",
       "      <td>2</td>\n",
       "      <td>no</td>\n",
       "      <td>yes</td>\n",
       "      <td>2</td>\n",
       "    </tr>\n",
       "  </tbody>\n",
       "</table>\n",
       "<p>5 rows × 21 columns</p>\n",
       "</div>"
      ],
      "text/plain": [
       "  checkin_acc  duration         credit_history              purpose  amount  \\\n",
       "0    negative         6            credits due     radio/television    1169   \n",
       "1      little        48  existing credits paid     radio/television    5951   \n",
       "2  no account        12            credits due            education    2096   \n",
       "3    negative        42  existing credits paid  furniture/equipment    7882   \n",
       "4    negative        24                    NaN             car(new)    4870   \n",
       "\n",
       "   saving_acc present_emp_since  inst_rate                    personal_status  \\\n",
       "0  no account       more than 7          4                        male:single   \n",
       "1      little         1-4 years          2  female:divorced/seperated/widowed   \n",
       "2      little         4-7 years          2                        male:single   \n",
       "3      little         4-7 years          2                        male:single   \n",
       "4      little         1-4 years          3                        male:single   \n",
       "\n",
       "  other_debtors  ...                           property age  inst_plans  \\\n",
       "0          none  ...                        real estate  67        none   \n",
       "1          none  ...                        real estate  22        none   \n",
       "2          none  ...                        real estate  49        none   \n",
       "3     guarantor  ...    building society/life insurance  45        none   \n",
       "4          none  ...                        no property  53        none   \n",
       "\n",
       "    housing num_credits               job dependents  telephone  \\\n",
       "0       own           2  skilled/official          1        yes   \n",
       "1       own           1  skilled/official          1         no   \n",
       "2       own           1       unskilled-R          2         no   \n",
       "3  for free           1  skilled/official          2         no   \n",
       "4  for free           2  skilled/official          2         no   \n",
       "\n",
       "  foreign_worker status  \n",
       "0            yes      1  \n",
       "1            yes      2  \n",
       "2            yes      1  \n",
       "3            yes      1  \n",
       "4            yes      2  \n",
       "\n",
       "[5 rows x 21 columns]"
      ]
     },
     "execution_count": 9,
     "metadata": {},
     "output_type": "execute_result"
    }
   ],
   "source": [
    "german_data.head()"
   ]
  },
  {
   "cell_type": "code",
   "execution_count": 10,
   "metadata": {},
   "outputs": [],
   "source": [
    "#BRINGING THE STATUS INTO 0 AND 1.\n",
    "\n",
    "german_data.status = german_data.status-1"
   ]
  },
  {
   "cell_type": "code",
   "execution_count": 11,
   "metadata": {},
   "outputs": [
    {
     "data": {
      "text/html": [
       "<div>\n",
       "<style scoped>\n",
       "    .dataframe tbody tr th:only-of-type {\n",
       "        vertical-align: middle;\n",
       "    }\n",
       "\n",
       "    .dataframe tbody tr th {\n",
       "        vertical-align: top;\n",
       "    }\n",
       "\n",
       "    .dataframe thead th {\n",
       "        text-align: right;\n",
       "    }\n",
       "</style>\n",
       "<table border=\"1\" class=\"dataframe\">\n",
       "  <thead>\n",
       "    <tr style=\"text-align: right;\">\n",
       "      <th></th>\n",
       "      <th>duration</th>\n",
       "      <th>amount</th>\n",
       "      <th>inst_rate</th>\n",
       "      <th>residing_since</th>\n",
       "      <th>age</th>\n",
       "      <th>num_credits</th>\n",
       "      <th>dependents</th>\n",
       "      <th>status</th>\n",
       "    </tr>\n",
       "  </thead>\n",
       "  <tbody>\n",
       "    <tr>\n",
       "      <th>count</th>\n",
       "      <td>1000.000000</td>\n",
       "      <td>1000.000000</td>\n",
       "      <td>1000.000000</td>\n",
       "      <td>1000.000000</td>\n",
       "      <td>1000.000000</td>\n",
       "      <td>1000.000000</td>\n",
       "      <td>1000.000000</td>\n",
       "      <td>1000.000000</td>\n",
       "    </tr>\n",
       "    <tr>\n",
       "      <th>mean</th>\n",
       "      <td>20.903000</td>\n",
       "      <td>3271.258000</td>\n",
       "      <td>2.973000</td>\n",
       "      <td>2.845000</td>\n",
       "      <td>35.546000</td>\n",
       "      <td>1.407000</td>\n",
       "      <td>1.155000</td>\n",
       "      <td>0.300000</td>\n",
       "    </tr>\n",
       "    <tr>\n",
       "      <th>std</th>\n",
       "      <td>12.058814</td>\n",
       "      <td>2822.736876</td>\n",
       "      <td>1.118715</td>\n",
       "      <td>1.103718</td>\n",
       "      <td>11.375469</td>\n",
       "      <td>0.577654</td>\n",
       "      <td>0.362086</td>\n",
       "      <td>0.458487</td>\n",
       "    </tr>\n",
       "    <tr>\n",
       "      <th>min</th>\n",
       "      <td>4.000000</td>\n",
       "      <td>250.000000</td>\n",
       "      <td>1.000000</td>\n",
       "      <td>1.000000</td>\n",
       "      <td>19.000000</td>\n",
       "      <td>1.000000</td>\n",
       "      <td>1.000000</td>\n",
       "      <td>0.000000</td>\n",
       "    </tr>\n",
       "    <tr>\n",
       "      <th>25%</th>\n",
       "      <td>12.000000</td>\n",
       "      <td>1365.500000</td>\n",
       "      <td>2.000000</td>\n",
       "      <td>2.000000</td>\n",
       "      <td>27.000000</td>\n",
       "      <td>1.000000</td>\n",
       "      <td>1.000000</td>\n",
       "      <td>0.000000</td>\n",
       "    </tr>\n",
       "    <tr>\n",
       "      <th>50%</th>\n",
       "      <td>18.000000</td>\n",
       "      <td>2319.500000</td>\n",
       "      <td>3.000000</td>\n",
       "      <td>3.000000</td>\n",
       "      <td>33.000000</td>\n",
       "      <td>1.000000</td>\n",
       "      <td>1.000000</td>\n",
       "      <td>0.000000</td>\n",
       "    </tr>\n",
       "    <tr>\n",
       "      <th>75%</th>\n",
       "      <td>24.000000</td>\n",
       "      <td>3972.250000</td>\n",
       "      <td>4.000000</td>\n",
       "      <td>4.000000</td>\n",
       "      <td>42.000000</td>\n",
       "      <td>2.000000</td>\n",
       "      <td>1.000000</td>\n",
       "      <td>1.000000</td>\n",
       "    </tr>\n",
       "    <tr>\n",
       "      <th>max</th>\n",
       "      <td>72.000000</td>\n",
       "      <td>18424.000000</td>\n",
       "      <td>4.000000</td>\n",
       "      <td>4.000000</td>\n",
       "      <td>75.000000</td>\n",
       "      <td>4.000000</td>\n",
       "      <td>2.000000</td>\n",
       "      <td>1.000000</td>\n",
       "    </tr>\n",
       "  </tbody>\n",
       "</table>\n",
       "</div>"
      ],
      "text/plain": [
       "          duration        amount    inst_rate  residing_since          age  \\\n",
       "count  1000.000000   1000.000000  1000.000000     1000.000000  1000.000000   \n",
       "mean     20.903000   3271.258000     2.973000        2.845000    35.546000   \n",
       "std      12.058814   2822.736876     1.118715        1.103718    11.375469   \n",
       "min       4.000000    250.000000     1.000000        1.000000    19.000000   \n",
       "25%      12.000000   1365.500000     2.000000        2.000000    27.000000   \n",
       "50%      18.000000   2319.500000     3.000000        3.000000    33.000000   \n",
       "75%      24.000000   3972.250000     4.000000        4.000000    42.000000   \n",
       "max      72.000000  18424.000000     4.000000        4.000000    75.000000   \n",
       "\n",
       "       num_credits   dependents       status  \n",
       "count  1000.000000  1000.000000  1000.000000  \n",
       "mean      1.407000     1.155000     0.300000  \n",
       "std       0.577654     0.362086     0.458487  \n",
       "min       1.000000     1.000000     0.000000  \n",
       "25%       1.000000     1.000000     0.000000  \n",
       "50%       1.000000     1.000000     0.000000  \n",
       "75%       2.000000     1.000000     1.000000  \n",
       "max       4.000000     2.000000     1.000000  "
      ]
     },
     "execution_count": 11,
     "metadata": {},
     "output_type": "execute_result"
    }
   ],
   "source": [
    "#SUMMARY STATISTICS OF THE NUMERICAL FEATURES\n",
    "\n",
    "german_data.describe()"
   ]
  },
  {
   "cell_type": "code",
   "execution_count": 12,
   "metadata": {
    "scrolled": true
   },
   "outputs": [
    {
     "data": {
      "text/html": [
       "<div>\n",
       "<style scoped>\n",
       "    .dataframe tbody tr th:only-of-type {\n",
       "        vertical-align: middle;\n",
       "    }\n",
       "\n",
       "    .dataframe tbody tr th {\n",
       "        vertical-align: top;\n",
       "    }\n",
       "\n",
       "    .dataframe thead th {\n",
       "        text-align: right;\n",
       "    }\n",
       "</style>\n",
       "<table border=\"1\" class=\"dataframe\">\n",
       "  <thead>\n",
       "    <tr style=\"text-align: right;\">\n",
       "      <th></th>\n",
       "      <th>checkin_acc</th>\n",
       "      <th>credit_history</th>\n",
       "      <th>purpose</th>\n",
       "      <th>saving_acc</th>\n",
       "      <th>present_emp_since</th>\n",
       "      <th>personal_status</th>\n",
       "      <th>other_debtors</th>\n",
       "      <th>property</th>\n",
       "      <th>inst_plans</th>\n",
       "      <th>housing</th>\n",
       "      <th>job</th>\n",
       "      <th>telephone</th>\n",
       "      <th>foreign_worker</th>\n",
       "    </tr>\n",
       "  </thead>\n",
       "  <tbody>\n",
       "    <tr>\n",
       "      <th>count</th>\n",
       "      <td>1000</td>\n",
       "      <td>912</td>\n",
       "      <td>1000</td>\n",
       "      <td>1000</td>\n",
       "      <td>1000</td>\n",
       "      <td>1000</td>\n",
       "      <td>1000</td>\n",
       "      <td>1000</td>\n",
       "      <td>1000</td>\n",
       "      <td>1000</td>\n",
       "      <td>1000</td>\n",
       "      <td>1000</td>\n",
       "      <td>1000</td>\n",
       "    </tr>\n",
       "    <tr>\n",
       "      <th>unique</th>\n",
       "      <td>4</td>\n",
       "      <td>4</td>\n",
       "      <td>10</td>\n",
       "      <td>5</td>\n",
       "      <td>5</td>\n",
       "      <td>4</td>\n",
       "      <td>3</td>\n",
       "      <td>4</td>\n",
       "      <td>3</td>\n",
       "      <td>3</td>\n",
       "      <td>4</td>\n",
       "      <td>2</td>\n",
       "      <td>2</td>\n",
       "    </tr>\n",
       "    <tr>\n",
       "      <th>top</th>\n",
       "      <td>no account</td>\n",
       "      <td>existing credits paid</td>\n",
       "      <td>radio/television</td>\n",
       "      <td>little</td>\n",
       "      <td>1-4 years</td>\n",
       "      <td>male:single</td>\n",
       "      <td>none</td>\n",
       "      <td>car or not</td>\n",
       "      <td>none</td>\n",
       "      <td>own</td>\n",
       "      <td>skilled/official</td>\n",
       "      <td>no</td>\n",
       "      <td>yes</td>\n",
       "    </tr>\n",
       "    <tr>\n",
       "      <th>freq</th>\n",
       "      <td>394</td>\n",
       "      <td>530</td>\n",
       "      <td>280</td>\n",
       "      <td>603</td>\n",
       "      <td>339</td>\n",
       "      <td>548</td>\n",
       "      <td>907</td>\n",
       "      <td>332</td>\n",
       "      <td>814</td>\n",
       "      <td>713</td>\n",
       "      <td>630</td>\n",
       "      <td>596</td>\n",
       "      <td>963</td>\n",
       "    </tr>\n",
       "  </tbody>\n",
       "</table>\n",
       "</div>"
      ],
      "text/plain": [
       "       checkin_acc         credit_history           purpose saving_acc  \\\n",
       "count         1000                    912              1000       1000   \n",
       "unique           4                      4                10          5   \n",
       "top     no account  existing credits paid  radio/television     little   \n",
       "freq           394                    530               280        603   \n",
       "\n",
       "       present_emp_since personal_status other_debtors    property inst_plans  \\\n",
       "count               1000            1000          1000        1000       1000   \n",
       "unique                 5               4             3           4          3   \n",
       "top            1-4 years     male:single          none  car or not       none   \n",
       "freq                 339             548           907         332        814   \n",
       "\n",
       "       housing               job telephone foreign_worker  \n",
       "count     1000              1000      1000           1000  \n",
       "unique       3                 4         2              2  \n",
       "top        own  skilled/official        no            yes  \n",
       "freq       713               630       596            963  "
      ]
     },
     "execution_count": 12,
     "metadata": {},
     "output_type": "execute_result"
    }
   ],
   "source": [
    "#SUMMARY STATISTICS OF OBJECT DATATYPE\n",
    "\n",
    "german_data.describe(include='O')"
   ]
  },
  {
   "cell_type": "code",
   "execution_count": 13,
   "metadata": {
    "scrolled": false
   },
   "outputs": [
    {
     "data": {
      "text/plain": [
       "checkin_acc           0\n",
       "duration              0\n",
       "credit_history       88\n",
       "purpose               0\n",
       "amount                0\n",
       "saving_acc            0\n",
       "present_emp_since     0\n",
       "inst_rate             0\n",
       "personal_status       0\n",
       "other_debtors         0\n",
       "residing_since        0\n",
       "property              0\n",
       "age                   0\n",
       "inst_plans            0\n",
       "housing               0\n",
       "num_credits           0\n",
       "job                   0\n",
       "dependents            0\n",
       "telephone             0\n",
       "foreign_worker        0\n",
       "status                0\n",
       "dtype: int64"
      ]
     },
     "execution_count": 13,
     "metadata": {},
     "output_type": "execute_result"
    }
   ],
   "source": [
    "#CHECK FOR NULL VALUES\n",
    "\n",
    "german_data.isna().sum()"
   ]
  },
  {
   "cell_type": "markdown",
   "metadata": {},
   "source": [
    "IMPUTATION "
   ]
  },
  {
   "cell_type": "code",
   "execution_count": 14,
   "metadata": {},
   "outputs": [],
   "source": [
    "from sklearn.base import TransformerMixin\n",
    "class DataFrameImputer(TransformerMixin):\n",
    "\n",
    "    def __init__(self):\n",
    "        \"\"\"Impute missing values.\n",
    "\n",
    "        Columns of dtype object are imputed with the most frequent value \n",
    "        in column.\n",
    "\n",
    "        Columns of other types are imputed with mean of column.\n",
    "\n",
    "        \"\"\"\n",
    "    def fit(self, X, y=None):\n",
    "\n",
    "        self.fill = pd.Series([X[c].value_counts().index[0]\n",
    "            if X[c].dtype == np.dtype('O') else X[c].mean() for c in X],\n",
    "            index=X.columns)\n",
    "\n",
    "        return self\n",
    "\n",
    "    def transform(self, X, y=None):\n",
    "        return X.fillna(self.fill)"
   ]
  },
  {
   "cell_type": "code",
   "execution_count": 15,
   "metadata": {},
   "outputs": [],
   "source": [
    "german_data = DataFrameImputer().fit_transform(german_data)"
   ]
  },
  {
   "cell_type": "code",
   "execution_count": 16,
   "metadata": {},
   "outputs": [
    {
     "data": {
      "text/plain": [
       "<bound method Series.fillna of 0                  credits due\n",
       "1        existing credits paid\n",
       "2                  credits due\n",
       "3        existing credits paid\n",
       "4        existing credits paid\n",
       "5        existing credits paid\n",
       "6        existing credits paid\n",
       "7        existing credits paid\n",
       "8        existing credits paid\n",
       "9                  credits due\n",
       "10       existing credits paid\n",
       "11       existing credits paid\n",
       "12       existing credits paid\n",
       "13                 credits due\n",
       "14       existing credits paid\n",
       "15       existing credits paid\n",
       "16                 credits due\n",
       "17           no credit history\n",
       "18       existing credits paid\n",
       "19       existing credits paid\n",
       "20                 credits due\n",
       "21       existing credits paid\n",
       "22                 credits due\n",
       "23                 credits due\n",
       "24                 credits due\n",
       "25       existing credits paid\n",
       "26           no credit history\n",
       "27     all credit paid at bank\n",
       "28       existing credits paid\n",
       "29       existing credits paid\n",
       "                ...           \n",
       "970      existing credits paid\n",
       "971      existing credits paid\n",
       "972    all credit paid at bank\n",
       "973      existing credits paid\n",
       "974                credits due\n",
       "975      existing credits paid\n",
       "976      existing credits paid\n",
       "977      existing credits paid\n",
       "978      existing credits paid\n",
       "979    all credit paid at bank\n",
       "980                credits due\n",
       "981      existing credits paid\n",
       "982      existing credits paid\n",
       "983      existing credits paid\n",
       "984                credits due\n",
       "985                credits due\n",
       "986          no credit history\n",
       "987      existing credits paid\n",
       "988      existing credits paid\n",
       "989                credits due\n",
       "990                credits due\n",
       "991    all credit paid at bank\n",
       "992      existing credits paid\n",
       "993      existing credits paid\n",
       "994      existing credits paid\n",
       "995      existing credits paid\n",
       "996      existing credits paid\n",
       "997      existing credits paid\n",
       "998      existing credits paid\n",
       "999                credits due\n",
       "Name: credit_history, Length: 1000, dtype: object>"
      ]
     },
     "execution_count": 16,
     "metadata": {},
     "output_type": "execute_result"
    }
   ],
   "source": [
    "german_data.credit_history.fillna"
   ]
  },
  {
   "cell_type": "code",
   "execution_count": 17,
   "metadata": {
    "scrolled": true
   },
   "outputs": [
    {
     "data": {
      "text/plain": [
       "checkin_acc          0\n",
       "duration             0\n",
       "credit_history       0\n",
       "purpose              0\n",
       "amount               0\n",
       "saving_acc           0\n",
       "present_emp_since    0\n",
       "inst_rate            0\n",
       "personal_status      0\n",
       "other_debtors        0\n",
       "residing_since       0\n",
       "property             0\n",
       "age                  0\n",
       "inst_plans           0\n",
       "housing              0\n",
       "num_credits          0\n",
       "job                  0\n",
       "dependents           0\n",
       "telephone            0\n",
       "foreign_worker       0\n",
       "status               0\n",
       "dtype: int64"
      ]
     },
     "execution_count": 17,
     "metadata": {},
     "output_type": "execute_result"
    }
   ],
   "source": [
    "german_data.isna().sum()"
   ]
  },
  {
   "cell_type": "code",
   "execution_count": 18,
   "metadata": {},
   "outputs": [
    {
     "data": {
      "text/plain": [
       "0"
      ]
     },
     "execution_count": 18,
     "metadata": {},
     "output_type": "execute_result"
    }
   ],
   "source": [
    "#CHECK FOR DUPLICATED ROWS\n",
    "\n",
    "german_data.duplicated().sum()"
   ]
  },
  {
   "cell_type": "markdown",
   "metadata": {},
   "source": [
    "# DATA VISUALISATION"
   ]
  },
  {
   "cell_type": "code",
   "execution_count": 19,
   "metadata": {},
   "outputs": [
    {
     "data": {
      "text/plain": [
       "Text(1,0.5,'Most of the applicants in the dataset have no savings account')"
      ]
     },
     "execution_count": 19,
     "metadata": {},
     "output_type": "execute_result"
    },
    {
     "data": {
      "image/png": "[encoded data removed]",
      "text/plain": [
       "<Figure size 432x288 with 1 Axes>"
      ]
     },
     "metadata": {},
     "output_type": "display_data"
    }
   ],
   "source": [
    "sns.countplot(german_data.checkin_acc)\n",
    "plt.title(\"Checking account distribution\")\n",
    "plt.figtext(1,0.5,\"Most of the applicants in the dataset have no savings account\",fontsize = 15)"
   ]
  },
  {
   "cell_type": "code",
   "execution_count": 20,
   "metadata": {
    "scrolled": false
   },
   "outputs": [
    {
     "data": {
      "text/plain": [
       "Text(1,0.5,'Most of the applicants in the dataset have paid their existing credit')"
      ]
     },
     "execution_count": 20,
     "metadata": {},
     "output_type": "execute_result"
    },
    {
     "data": {
      "image/png": "[encoded data removed]",
      "text/plain": [
       "<Figure size 432x288 with 1 Axes>"
      ]
     },
     "metadata": {},
     "output_type": "display_data"
    }
   ],
   "source": [
    "sns.countplot(german_data.credit_history)\n",
    "plt.xticks(rotation = \"vertical\")\n",
    "plt.title(\"Credit history distribution\")\n",
    "plt.figtext(1,0.5,\"Most of the applicants in the dataset have paid their existing credit\",fontsize = 15)"
   ]
  },
  {
   "cell_type": "code",
   "execution_count": 21,
   "metadata": {
    "scrolled": true
   },
   "outputs": [
    {
     "data": {
      "text/plain": [
       "Text(0.1,-0.4,\"Most of the applicants in the dataset have applied for the credit for the purpose of buying 'radio/television',followed by car(new)\")"
      ]
     },
     "execution_count": 21,
     "metadata": {},
     "output_type": "execute_result"
    },
    {
     "data": {
      "image/png": "[encoded data removed]",
      "text/plain": [
       "<Figure size 432x288 with 1 Axes>"
      ]
     },
     "metadata": {},
     "output_type": "display_data"
    }
   ],
   "source": [
    "sns.countplot(german_data.purpose)\n",
    "plt.xticks(rotation='vertical')\n",
    "plt.title(\"Distribution of purpose for credit\")\n",
    "plt.figtext(0.1,-0.4,\"Most of the applicants in the dataset have applied for the credit for the purpose of buying 'radio/television',followed by car(new)\",horizontalalignment = 'left',fontsize = 15)"
   ]
  },
  {
   "cell_type": "code",
   "execution_count": 22,
   "metadata": {},
   "outputs": [
    {
     "data": {
      "text/plain": [
       "Text(1,0.5,'Most of the applicants in the dataset have little money in their savings account')"
      ]
     },
     "execution_count": 22,
     "metadata": {},
     "output_type": "execute_result"
    },
    {
     "data": {
      "image/png": "[encoded data removed]",
      "text/plain": [
       "<Figure size 432x288 with 1 Axes>"
      ]
     },
     "metadata": {},
     "output_type": "display_data"
    }
   ],
   "source": [
    "sns.countplot(german_data.saving_acc)\n",
    "plt.title(\"Distribution of saving account in terms of money\")\n",
    "plt.figtext(1,0.5,\"Most of the applicants in the dataset have little money in their savings account\",fontsize = 15)"
   ]
  },
  {
   "cell_type": "code",
   "execution_count": 23,
   "metadata": {},
   "outputs": [
    {
     "data": {
      "text/plain": [
       "Text(1,0.5,'Most of the applicants in the dataset have been employed between 1-4 years')"
      ]
     },
     "execution_count": 23,
     "metadata": {},
     "output_type": "execute_result"
    },
    {
     "data": {
      "image/png": "[encoded data removed]",
      "text/plain": [
       "<Figure size 432x288 with 1 Axes>"
      ]
     },
     "metadata": {},
     "output_type": "display_data"
    }
   ],
   "source": [
    "sns.countplot(german_data.present_emp_since)\n",
    "plt.title(\"Distribution of Employment years\")\n",
    "plt.figtext(1,0.5,\"Most of the applicants in the dataset have been employed between 1-4 years\",fontsize = 15)"
   ]
  },
  {
   "cell_type": "code",
   "execution_count": 24,
   "metadata": {},
   "outputs": [
    {
     "data": {
      "text/plain": [
       "Text(1,0.5,'Most of the applicants in the dataset are male:single')"
      ]
     },
     "execution_count": 24,
     "metadata": {},
     "output_type": "execute_result"
    },
    {
     "data": {
      "image/png": "[encoded data removed]",
      "text/plain": [
       "<Figure size 432x288 with 1 Axes>"
      ]
     },
     "metadata": {},
     "output_type": "display_data"
    }
   ],
   "source": [
    "sns.countplot(german_data.personal_status)\n",
    "plt.xticks(rotation='vertical')\n",
    "plt.title(\"Distribution of Sex with Marital Status\")\n",
    "plt.figtext(1,0.5,\"Most of the applicants in the dataset are male:single\",fontsize = 15)"
   ]
  },
  {
   "cell_type": "code",
   "execution_count": 25,
   "metadata": {},
   "outputs": [
    {
     "data": {
      "text/plain": [
       "Text(0,-0.05,'Most of the applicants in the dataset have applied for the credit with no co-applicant or guarantor')"
      ]
     },
     "execution_count": 25,
     "metadata": {},
     "output_type": "execute_result"
    },
    {
     "data": {
      "image/png": "[encoded data removed]",
      "text/plain": [
       "<Figure size 432x288 with 1 Axes>"
      ]
     },
     "metadata": {},
     "output_type": "display_data"
    }
   ],
   "source": [
    "sns.countplot(german_data.other_debtors)\n",
    "plt.title(\"Along whom the credit is being shared\")\n",
    "plt.figtext(0,-0.05,\"Most of the applicants in the dataset have applied for the credit with no co-applicant or guarantor\",fontsize = 15)"
   ]
  },
  {
   "cell_type": "code",
   "execution_count": 26,
   "metadata": {},
   "outputs": [
    {
     "data": {
      "text/plain": [
       "Text(1,0.5,\"This plot isn't giving any majority inference from the dataset\")"
      ]
     },
     "execution_count": 26,
     "metadata": {},
     "output_type": "execute_result"
    },
    {
     "data": {
      "image/png": "[encoded data removed]",
      "text/plain": [
       "<Figure size 432x288 with 1 Axes>"
      ]
     },
     "metadata": {},
     "output_type": "display_data"
    }
   ],
   "source": [
    "sns.countplot(german_data.property)\n",
    "plt.xticks(rotation = 'vertical')\n",
    "plt.title(\"Distribution of Properties of applicants\")\n",
    "plt.figtext(1,0.5,\"This plot isn't giving any majority inference from the dataset\",fontsize = 15)\n"
   ]
  },
  {
   "cell_type": "code",
   "execution_count": 27,
   "metadata": {},
   "outputs": [
    {
     "data": {
      "text/plain": [
       "Text(1,0.5,'Most of the applicants in the dataset have no installment plans')"
      ]
     },
     "execution_count": 27,
     "metadata": {},
     "output_type": "execute_result"
    },
    {
     "data": {
      "image/png": "[encoded data removed]",
      "text/plain": [
       "<Figure size 432x288 with 1 Axes>"
      ]
     },
     "metadata": {},
     "output_type": "display_data"
    }
   ],
   "source": [
    "sns.countplot(german_data.inst_plans)\n",
    "plt.title(\"Distribution of Installment Plans\")\n",
    "plt.figtext(1,0.5,\"Most of the applicants in the dataset have no installment plans\",fontsize = 15)"
   ]
  },
  {
   "cell_type": "code",
   "execution_count": 28,
   "metadata": {},
   "outputs": [
    {
     "data": {
      "text/plain": [
       "Text(1,0.5,'Most of the applicants in the dataset have their own house')"
      ]
     },
     "execution_count": 28,
     "metadata": {},
     "output_type": "execute_result"
    },
    {
     "data": {
      "image/png": "[encoded data removed]",
      "text/plain": [
       "<Figure size 432x288 with 1 Axes>"
      ]
     },
     "metadata": {},
     "output_type": "display_data"
    }
   ],
   "source": [
    "sns.countplot(german_data.housing)\n",
    "plt.title(\"Distribution of housing\")\n",
    "plt.figtext(1,0.5,\"Most of the applicants in the dataset have their own house\",fontsize = 15)"
   ]
  },
  {
   "cell_type": "code",
   "execution_count": 29,
   "metadata": {},
   "outputs": [
    {
     "data": {
      "text/plain": [
       "Text(1,0.5,'Most of the applicants in the dataset are skilled/official in nature')"
      ]
     },
     "execution_count": 29,
     "metadata": {},
     "output_type": "execute_result"
    },
    {
     "data": {
      "image/png": "[encoded data removed]",
      "text/plain": [
       "<Figure size 432x288 with 1 Axes>"
      ]
     },
     "metadata": {},
     "output_type": "display_data"
    }
   ],
   "source": [
    "sns.countplot(german_data.job)\n",
    "plt.xticks(rotation='vertical')\n",
    "plt.figtext(1,0.5,\"Most of the applicants in the dataset are skilled/official in nature\",fontsize = 15)"
   ]
  },
  {
   "cell_type": "code",
   "execution_count": 30,
   "metadata": {},
   "outputs": [
    {
     "data": {
      "text/plain": [
       "Text(1,0.5,'Most of the applicants in the dataset have no telephone under their names')"
      ]
     },
     "execution_count": 30,
     "metadata": {},
     "output_type": "execute_result"
    },
    {
     "data": {
      "image/png": "[encoded data removed]",
      "text/plain": [
       "<Figure size 432x288 with 1 Axes>"
      ]
     },
     "metadata": {},
     "output_type": "display_data"
    }
   ],
   "source": [
    "sns.countplot(german_data.telephone)\n",
    "plt.title(\"Aplicant possess a telephone\")\n",
    "plt.figtext(1,0.5,\"Most of the applicants in the dataset have no telephone under their names\",fontsize = 15)"
   ]
  },
  {
   "cell_type": "code",
   "execution_count": 31,
   "metadata": {},
   "outputs": [
    {
     "data": {
      "text/plain": [
       "Text(1,0.5,'Most of the applicants in the dataset are foreign workers')"
      ]
     },
     "execution_count": 31,
     "metadata": {},
     "output_type": "execute_result"
    },
    {
     "data": {
      "image/png": "[encoded data removed]",
      "text/plain": [
       "<Figure size 432x288 with 1 Axes>"
      ]
     },
     "metadata": {},
     "output_type": "display_data"
    }
   ],
   "source": [
    "sns.countplot(german_data.foreign_worker)\n",
    "plt.title(\"Applicant is a foreign worker\")\n",
    "plt.figtext(1,0.5,\"Most of the applicants in the dataset are foreign workers\",fontsize = 15)"
   ]
  },
  {
   "cell_type": "code",
   "execution_count": 32,
   "metadata": {},
   "outputs": [
    {
     "data": {
      "text/plain": [
       "Text(1,0.5,'Most of the applicants in the dataset are good credit')"
      ]
     },
     "execution_count": 32,
     "metadata": {},
     "output_type": "execute_result"
    },
    {
     "data": {
      "image/png": "[encoded data removed]",
      "text/plain": [
       "<Figure size 432x288 with 1 Axes>"
      ]
     },
     "metadata": {},
     "output_type": "display_data"
    }
   ],
   "source": [
    "sns.countplot(german_data.status)\n",
    "plt.title(\"Credit status: Good(0) or Bad(1)\")\n",
    "plt.figtext(1,0.5,\"Most of the applicants in the dataset are good credit\",fontsize = 15)"
   ]
  },
  {
   "cell_type": "code",
   "execution_count": 33,
   "metadata": {},
   "outputs": [
    {
     "data": {
      "text/plain": [
       "count     1000.000000\n",
       "mean      3271.258000\n",
       "std       2822.736876\n",
       "min        250.000000\n",
       "25%       1365.500000\n",
       "50%       2319.500000\n",
       "75%       3972.250000\n",
       "max      18424.000000\n",
       "Name: amount, dtype: float64"
      ]
     },
     "execution_count": 33,
     "metadata": {},
     "output_type": "execute_result"
    }
   ],
   "source": [
    "german_data.amount.describe()"
   ]
  },
  {
   "cell_type": "code",
   "execution_count": 34,
   "metadata": {},
   "outputs": [
    {
     "name": "stderr",
     "output_type": "stream",
     "text": [
      "C:\\Users\\suraj\\Anaconda3\\lib\\site-packages\\matplotlib\\axes\\_axes.py:6462: UserWarning: The 'normed' kwarg is deprecated, and has been replaced by the 'density' kwarg.\n",
      "  warnings.warn(\"The 'normed' kwarg is deprecated, and has been \"\n"
     ]
    },
    {
     "data": {
      "text/plain": [
       "Text(1,0.4,'Mean amount given:3271 \\nMax amount given:18424 \\nMin amount given:250')"
      ]
     },
     "execution_count": 34,
     "metadata": {},
     "output_type": "execute_result"
    },
    {
     "data": {
      "image/png": "[encoded data removed]",
      "text/plain": [
       "<Figure size 432x288 with 1 Axes>"
      ]
     },
     "metadata": {},
     "output_type": "display_data"
    }
   ],
   "source": [
    "sns.distplot(german_data.amount,kde=False)\n",
    "plt.xlabel(\"Amount given\")\n",
    "plt.ylabel(\"Frequency\")\n",
    "plt.figtext(1,0.4,'''Mean amount given:3271 \n",
    "Max amount given:18424 \n",
    "Min amount given:250''',fontsize = 14)\n"
   ]
  },
  {
   "cell_type": "code",
   "execution_count": 35,
   "metadata": {},
   "outputs": [
    {
     "data": {
      "text/plain": [
       "count    1000.000000\n",
       "mean       20.903000\n",
       "std        12.058814\n",
       "min         4.000000\n",
       "25%        12.000000\n",
       "50%        18.000000\n",
       "75%        24.000000\n",
       "max        72.000000\n",
       "Name: duration, dtype: float64"
      ]
     },
     "execution_count": 35,
     "metadata": {},
     "output_type": "execute_result"
    }
   ],
   "source": [
    "german_data.duration.describe()"
   ]
  },
  {
   "cell_type": "code",
   "execution_count": 36,
   "metadata": {},
   "outputs": [
    {
     "name": "stderr",
     "output_type": "stream",
     "text": [
      "C:\\Users\\suraj\\Anaconda3\\lib\\site-packages\\matplotlib\\axes\\_axes.py:6462: UserWarning: The 'normed' kwarg is deprecated, and has been replaced by the 'density' kwarg.\n",
      "  warnings.warn(\"The 'normed' kwarg is deprecated, and has been \"\n"
     ]
    },
    {
     "data": {
      "text/plain": [
       "Text(1,0.4,'Mean duration:21\\nMin duration:4\\nMax duration:72')"
      ]
     },
     "execution_count": 36,
     "metadata": {},
     "output_type": "execute_result"
    },
    {
     "data": {
      "image/png": "[encoded data removed]",
      "text/plain": [
       "<Figure size 432x288 with 1 Axes>"
      ]
     },
     "metadata": {},
     "output_type": "display_data"
    }
   ],
   "source": [
    "sns.distplot(german_data.duration,kde=False,color = \"green\")\n",
    "plt.xlabel(\"Duration in months\")\n",
    "plt.ylabel(\"Frequency\")\n",
    "plt.figtext(1,0.4,'''Mean duration:21\n",
    "Min duration:4\n",
    "Max duration:72''',fontsize = 14)"
   ]
  },
  {
   "cell_type": "code",
   "execution_count": 37,
   "metadata": {},
   "outputs": [
    {
     "data": {
      "text/plain": [
       "count    1000.000000\n",
       "mean        2.973000\n",
       "std         1.118715\n",
       "min         1.000000\n",
       "25%         2.000000\n",
       "50%         3.000000\n",
       "75%         4.000000\n",
       "max         4.000000\n",
       "Name: inst_rate, dtype: float64"
      ]
     },
     "execution_count": 37,
     "metadata": {},
     "output_type": "execute_result"
    }
   ],
   "source": [
    "german_data.inst_rate.describe()"
   ]
  },
  {
   "cell_type": "code",
   "execution_count": 38,
   "metadata": {},
   "outputs": [
    {
     "name": "stderr",
     "output_type": "stream",
     "text": [
      "C:\\Users\\suraj\\Anaconda3\\lib\\site-packages\\matplotlib\\axes\\_axes.py:6462: UserWarning: The 'normed' kwarg is deprecated, and has been replaced by the 'density' kwarg.\n",
      "  warnings.warn(\"The 'normed' kwarg is deprecated, and has been \"\n"
     ]
    },
    {
     "data": {
      "text/plain": [
       "Text(1,0.4,'Mean interest rate:2.98\\nMin interest rate:1\\nMax interest rate:4\\nMajority have an interest rate of 4')"
      ]
     },
     "execution_count": 38,
     "metadata": {},
     "output_type": "execute_result"
    },
    {
     "data": {
      "image/png": "[encoded data removed]",
      "text/plain": [
       "<Figure size 432x288 with 1 Axes>"
      ]
     },
     "metadata": {},
     "output_type": "display_data"
    }
   ],
   "source": [
    "sns.distplot(german_data.inst_rate,kde=False,color='orange')\n",
    "plt.xlabel(\"Interest Rate\")\n",
    "plt.ylabel(\"Frequency\")\n",
    "plt.figtext(1,0.4,'''Mean interest rate:2.98\n",
    "Min interest rate:1\n",
    "Max interest rate:4\n",
    "Majority have an interest rate of 4''',fontsize = 14)"
   ]
  },
  {
   "cell_type": "code",
   "execution_count": 39,
   "metadata": {},
   "outputs": [
    {
     "data": {
      "text/plain": [
       "count    1000.000000\n",
       "mean       35.546000\n",
       "std        11.375469\n",
       "min        19.000000\n",
       "25%        27.000000\n",
       "50%        33.000000\n",
       "75%        42.000000\n",
       "max        75.000000\n",
       "Name: age, dtype: float64"
      ]
     },
     "execution_count": 39,
     "metadata": {},
     "output_type": "execute_result"
    }
   ],
   "source": [
    "german_data.age.describe()"
   ]
  },
  {
   "cell_type": "code",
   "execution_count": 40,
   "metadata": {},
   "outputs": [
    {
     "name": "stderr",
     "output_type": "stream",
     "text": [
      "C:\\Users\\suraj\\Anaconda3\\lib\\site-packages\\matplotlib\\axes\\_axes.py:6462: UserWarning: The 'normed' kwarg is deprecated, and has been replaced by the 'density' kwarg.\n",
      "  warnings.warn(\"The 'normed' kwarg is deprecated, and has been \"\n"
     ]
    },
    {
     "data": {
      "text/plain": [
       "Text(1,0.4,'Mean age:35.5\\nMin age:19\\nMax age:75')"
      ]
     },
     "execution_count": 40,
     "metadata": {},
     "output_type": "execute_result"
    },
    {
     "data": {
      "image/png": "[encoded data removed]",
      "text/plain": [
       "<Figure size 432x288 with 1 Axes>"
      ]
     },
     "metadata": {},
     "output_type": "display_data"
    }
   ],
   "source": [
    "sns.distplot(german_data.age,kde=False,color='grey')\n",
    "plt.xlabel(\"Age\")\n",
    "plt.ylabel(\"Frequency\")\n",
    "plt.figtext(1,0.4,'''Mean age:35.5\n",
    "Min age:19\n",
    "Max age:75''',fontsize = 14)"
   ]
  },
  {
   "cell_type": "code",
   "execution_count": 41,
   "metadata": {},
   "outputs": [
    {
     "data": {
      "text/plain": [
       "count    1000.000000\n",
       "mean        1.407000\n",
       "std         0.577654\n",
       "min         1.000000\n",
       "25%         1.000000\n",
       "50%         1.000000\n",
       "75%         2.000000\n",
       "max         4.000000\n",
       "Name: num_credits, dtype: float64"
      ]
     },
     "execution_count": 41,
     "metadata": {},
     "output_type": "execute_result"
    }
   ],
   "source": [
    "german_data.num_credits.describe()"
   ]
  },
  {
   "cell_type": "code",
   "execution_count": 42,
   "metadata": {},
   "outputs": [
    {
     "data": {
      "text/plain": [
       "Text(1,0.4,'Mean number of credits:1.40\\nMin number of credits:1\\nMax number of credits:4\\nMajority of the applicants have 1 credit with them')"
      ]
     },
     "execution_count": 42,
     "metadata": {},
     "output_type": "execute_result"
    },
    {
     "data": {
      "image/png": "[encoded data removed]",
      "text/plain": [
       "<Figure size 432x288 with 1 Axes>"
      ]
     },
     "metadata": {},
     "output_type": "display_data"
    }
   ],
   "source": [
    "sns.countplot(german_data.num_credits)\n",
    "plt.xlabel(\"Number of credits\")\n",
    "plt.ylabel(\"Frequency\")\n",
    "plt.title(\"Distribution of number of credits taken from the bank\")\n",
    "plt.figtext(1,0.4,'''Mean number of credits:1.40\n",
    "Min number of credits:1\n",
    "Max number of credits:4\n",
    "Majority of the applicants have 1 credit with them''',fontsize = 14)"
   ]
  },
  {
   "cell_type": "code",
   "execution_count": 43,
   "metadata": {},
   "outputs": [
    {
     "data": {
      "text/plain": [
       "Text(0,0,'The middle 50% of the population lies between 1300 to 3900')"
      ]
     },
     "execution_count": 43,
     "metadata": {},
     "output_type": "execute_result"
    },
    {
     "data": {
      "image/png": "[encoded data removed]",
      "text/plain": [
       "<Figure size 432x288 with 1 Axes>"
      ]
     },
     "metadata": {},
     "output_type": "display_data"
    }
   ],
   "source": [
    "sns.boxplot(german_data.amount, orient = 'v' )\n",
    "plt.title( \"Boxplot of Credit Amount Disbursed\", fontsize = 15)\n",
    "plt.figtext(0,0,\"The middle 50% of the population lies between 1300 to 3900\",fontsize=14)"
   ]
  },
  {
   "cell_type": "code",
   "execution_count": 44,
   "metadata": {
    "scrolled": true
   },
   "outputs": [
    {
     "data": {
      "text/plain": [
       "Text(0.5,1,'Boxplot of Credit Amount Disbursed by Credit Status')"
      ]
     },
     "execution_count": 44,
     "metadata": {},
     "output_type": "execute_result"
    },
    {
     "data": {
      "image/png": "[encoded data removed]",
      "text/plain": [
       "<Figure size 432x288 with 1 Axes>"
      ]
     },
     "metadata": {},
     "output_type": "display_data"
    }
   ],
   "source": [
    "sns.boxplot( x = 'status', y = 'amount', data = german_data, orient = 'v' )\n",
    "plt.title( \"Boxplot of Credit Amount Disbursed by Credit Status\", fontsize = 15)"
   ]
  },
  {
   "cell_type": "code",
   "execution_count": 45,
   "metadata": {
    "scrolled": true
   },
   "outputs": [
    {
     "data": {
      "text/plain": [
       "Text(0,-0.05,'Shows higher amounts are being defaulted')"
      ]
     },
     "execution_count": 45,
     "metadata": {},
     "output_type": "execute_result"
    },
    {
     "data": {
      "image/png": "[encoded data removed]",
      "text/plain": [
       "<Figure size 432x288 with 1 Axes>"
      ]
     },
     "metadata": {},
     "output_type": "display_data"
    }
   ],
   "source": [
    "sns.distplot(german_data[german_data.status == 0].amount, color = 'b', hist = False )\n",
    "sns.distplot(german_data[german_data.status == 1].amount, color = 'g', hist = False )\n",
    "plt.title(\"Distribution plot of Amount comparison for Different Credit Status\" )\n",
    "plt.ylabel(\"Frequency\")\n",
    "plt.figtext(0,-0.05,\"Shows higher amounts are being defaulted\",horizontalalignment='left',fontsize = 14)"
   ]
  },
  {
   "cell_type": "code",
   "execution_count": 46,
   "metadata": {
    "scrolled": true
   },
   "outputs": [
    {
     "name": "stderr",
     "output_type": "stream",
     "text": [
      "C:\\Users\\suraj\\Anaconda3\\lib\\site-packages\\matplotlib\\axes\\_axes.py:6462: UserWarning: The 'normed' kwarg is deprecated, and has been replaced by the 'density' kwarg.\n",
      "  warnings.warn(\"The 'normed' kwarg is deprecated, and has been \"\n",
      "C:\\Users\\suraj\\Anaconda3\\lib\\site-packages\\matplotlib\\axes\\_axes.py:6462: UserWarning: The 'normed' kwarg is deprecated, and has been replaced by the 'density' kwarg.\n",
      "  warnings.warn(\"The 'normed' kwarg is deprecated, and has been \"\n"
     ]
    },
    {
     "data": {
      "text/plain": [
       "<seaborn.axisgrid.FacetGrid at 0x18716ed45f8>"
      ]
     },
     "execution_count": 46,
     "metadata": {},
     "output_type": "execute_result"
    },
    {
     "data": {
      "image/png": "[encoded data removed]",
      "text/plain": [
       "<Figure size 864x432 with 2 Axes>"
      ]
     },
     "metadata": {},
     "output_type": "display_data"
    }
   ],
   "source": [
    "a = sns.FacetGrid(german_data, col=\"status\", size = 6)\n",
    "a.map(sns.distplot, \"amount\", kde = False, bins = 30)"
   ]
  },
  {
   "cell_type": "code",
   "execution_count": 47,
   "metadata": {
    "scrolled": true
   },
   "outputs": [
    {
     "data": {
      "text/plain": [
       "Text(0,-0.05,'Shows interest rate of 1 has higher default')"
      ]
     },
     "execution_count": 47,
     "metadata": {},
     "output_type": "execute_result"
    },
    {
     "data": {
      "image/png": "[encoded data removed]",
      "text/plain": [
       "<Figure size 432x288 with 1 Axes>"
      ]
     },
     "metadata": {},
     "output_type": "display_data"
    }
   ],
   "source": [
    "sns.boxplot( x = 'inst_rate', y = 'amount', hue = 'status', data = german_data, orient = 'v' )\n",
    "plt.title( \"Boxplot of Credit Amount Disbursed by Credit Status\")\n",
    "plt.xlabel(\"Interest Rate\")\n",
    "plt.figtext(0,-0.05,\"Shows interest rate of 1 has higher default\",fontsize=14)"
   ]
  },
  {
   "cell_type": "code",
   "execution_count": 48,
   "metadata": {},
   "outputs": [
    {
     "data": {
      "text/plain": [
       "Text(0,-0.1,'Customer with no checking account are defaulting\\nand customers having checking account with little balance are high defaulters')"
      ]
     },
     "execution_count": 48,
     "metadata": {},
     "output_type": "execute_result"
    },
    {
     "data": {
      "image/png": "[encoded data removed]",
      "text/plain": [
       "<Figure size 432x288 with 1 Axes>"
      ]
     },
     "metadata": {},
     "output_type": "display_data"
    }
   ],
   "source": [
    "sns.barplot( x = 'checkin_acc', y = 'amount', hue = 'status', data = german_data)\n",
    "plt.xlabel(\"Checking Account\")\n",
    "plt.ylabel(\"Average Amount\")\n",
    "plt.title( \"Average credit amount by different checking account holders\")\n",
    "plt.figtext(0,-0.10,'''Customer with no checking account are defaulting\n",
    "and customers having checking account with little balance are high defaulters''',fontsize=14)"
   ]
  },
  {
   "cell_type": "code",
   "execution_count": 49,
   "metadata": {
    "scrolled": true
   },
   "outputs": [
    {
     "data": {
      "text/plain": [
       "Text(0,-0.1,'Higher amount for less duration are being defaulted')"
      ]
     },
     "execution_count": 49,
     "metadata": {},
     "output_type": "execute_result"
    },
    {
     "data": {
      "image/png": "[encoded data removed]",
      "text/plain": [
       "<Figure size 402.375x360 with 1 Axes>"
      ]
     },
     "metadata": {},
     "output_type": "display_data"
    }
   ],
   "source": [
    "sns.lmplot(x='duration',y='amount',hue='status',data = german_data )\n",
    "plt.figtext(0,-0.1,'''Higher amount for less duration are being defaulted''',fontsize=14)"
   ]
  },
  {
   "cell_type": "code",
   "execution_count": 50,
   "metadata": {},
   "outputs": [
    {
     "data": {
      "text/plain": [
       "array([1, 2], dtype=int64)"
      ]
     },
     "execution_count": 50,
     "metadata": {},
     "output_type": "execute_result"
    }
   ],
   "source": [
    "german_data.dependents.unique()"
   ]
  },
  {
   "cell_type": "code",
   "execution_count": 51,
   "metadata": {
    "scrolled": false
   },
   "outputs": [
    {
     "data": {
      "text/plain": [
       "Text(0,-0.1,'Customers with 1 dependent are at risk of default')"
      ]
     },
     "execution_count": 51,
     "metadata": {},
     "output_type": "execute_result"
    },
    {
     "data": {
      "image/png": "[encoded data removed]",
      "text/plain": [
       "<Figure size 432x288 with 1 Axes>"
      ]
     },
     "metadata": {},
     "output_type": "display_data"
    }
   ],
   "source": [
    "sns.barplot(x='dependents',y='amount',hue='status',data = german_data )\n",
    "plt.figtext(0,-0.1,'''Customers with 1 dependent are at risk of default''',fontsize=14)"
   ]
  },
  {
   "cell_type": "code",
   "execution_count": 52,
   "metadata": {},
   "outputs": [
    {
     "data": {
      "text/plain": [
       "Text(0,-0.1,'Customers who are very rich are defaulting at high amount')"
      ]
     },
     "execution_count": 52,
     "metadata": {},
     "output_type": "execute_result"
    },
    {
     "data": {
      "image/png": "[encoded data removed]",
      "text/plain": [
       "<Figure size 432x288 with 1 Axes>"
      ]
     },
     "metadata": {},
     "output_type": "display_data"
    }
   ],
   "source": [
    "sns.barplot(x='saving_acc',y='amount',hue='status',data = german_data )\n",
    "plt.ylabel(\"Average amount\")\n",
    "plt.xlabel(\"Saving account\")\n",
    "plt.figtext(0,-0.1,'''Customers who are very rich are defaulting at high amount''',fontsize=14)"
   ]
  },
  {
   "cell_type": "code",
   "execution_count": 53,
   "metadata": {
    "scrolled": true
   },
   "outputs": [
    {
     "data": {
      "text/plain": [
       "Text(0,-0.15,'Customers who are unemployed are defaulting\\nalmost as equal as employed customers more than 7 years with higher amount')"
      ]
     },
     "execution_count": 53,
     "metadata": {},
     "output_type": "execute_result"
    },
    {
     "data": {
      "image/png": "[encoded data removed]",
      "text/plain": [
       "<Figure size 432x288 with 1 Axes>"
      ]
     },
     "metadata": {},
     "output_type": "display_data"
    }
   ],
   "source": [
    "sns.barplot(x='present_emp_since',y='amount',hue='status',data = german_data )\n",
    "plt.ylabel(\"Average amount\")\n",
    "plt.xlabel(\"Employment years\")\n",
    "plt.figtext(0,-0.15,'''Customers who are unemployed are defaulting\n",
    "almost as equal as employed customers more than 7 years with higher amount''',fontsize=14)"
   ]
  },
  {
   "cell_type": "code",
   "execution_count": 54,
   "metadata": {
    "scrolled": true
   },
   "outputs": [
    {
     "data": {
      "text/plain": [
       "Text(0,-0.55,'Customers who have no properties are defaulting with high mean amount')"
      ]
     },
     "execution_count": 54,
     "metadata": {},
     "output_type": "execute_result"
    },
    {
     "data": {
      "image/png": "[encoded data removed]",
      "text/plain": [
       "<Figure size 432x288 with 1 Axes>"
      ]
     },
     "metadata": {},
     "output_type": "display_data"
    }
   ],
   "source": [
    "sns.barplot(x='property',y='amount',hue='status',data = german_data )\n",
    "plt.xticks(rotation='vertical')\n",
    "plt.ylabel(\"Average amount\")\n",
    "plt.xlabel(\"Property\")\n",
    "plt.figtext(0,-0.55,'''Customers who have no properties are defaulting with high mean amount''',fontsize=14)"
   ]
  },
  {
   "cell_type": "code",
   "execution_count": 55,
   "metadata": {
    "scrolled": true
   },
   "outputs": [
    {
     "data": {
      "text/plain": [
       "Text(0,-0.1,'Customers who are not foreign worker are defaulting with high mean amount')"
      ]
     },
     "execution_count": 55,
     "metadata": {},
     "output_type": "execute_result"
    },
    {
     "data": {
      "image/png": "[encoded data removed]",
      "text/plain": [
       "<Figure size 432x288 with 1 Axes>"
      ]
     },
     "metadata": {},
     "output_type": "display_data"
    }
   ],
   "source": [
    "sns.barplot(x='foreign_worker',y='amount',hue='status',data = german_data )\n",
    "plt.xticks(rotation='vertical')\n",
    "plt.ylabel(\"Average amount\")\n",
    "plt.xlabel(\"Foreign worker\")\n",
    "plt.figtext(0,-0.1,'''Customers who are not foreign worker are defaulting with high mean amount''',fontsize=14)"
   ]
  },
  {
   "cell_type": "markdown",
   "metadata": {},
   "source": [
    "# FEATURE SELECTION THROUGH CORRELATION "
   ]
  },
  {
   "cell_type": "code",
   "execution_count": 56,
   "metadata": {},
   "outputs": [
    {
     "data": {
      "text/plain": [
       "<matplotlib.axes._subplots.AxesSubplot at 0x18717766ef0>"
      ]
     },
     "execution_count": 56,
     "metadata": {},
     "output_type": "execute_result"
    },
    {
     "data": {
      "image/png": "[encoded data removed]",
      "text/plain": [
       "<Figure size 1440x1440 with 2 Axes>"
      ]
     },
     "metadata": {},
     "output_type": "display_data"
    }
   ],
   "source": [
    "corr = german_data.corr()\n",
    "plt.figure(figsize=(20,20))\n",
    "sns.heatmap(corr,cmap=\"RdYlGn\")"
   ]
  },
  {
   "cell_type": "code",
   "execution_count": 57,
   "metadata": {},
   "outputs": [],
   "source": [
    "def corr_df(x, corr_val):\n",
    "    '''\n",
    "    Obj: Drops features that are strongly correlated to other features.\n",
    "          This lowers model complexity, and aids in generalizing the model.\n",
    "    Inputs:\n",
    "          df: features df (x)\n",
    "          corr_val: Columns are dropped relative to the corr_val input (e.g. 0.8)\n",
    "    Output: df that only includes uncorrelated features\n",
    "    '''\n",
    "\n",
    "    # Creates Correlation Matrix and Instantiates\n",
    "    corr_matrix = x.corr()\n",
    "    iters = range(len(corr_matrix.columns) - 1)\n",
    "    drop_cols = []\n",
    "\n",
    "    # Iterates through Correlation Matrix Table to find correlated columns\n",
    "    for i in iters:\n",
    "        for j in range(i):\n",
    "            item = corr_matrix.iloc[j:(j+1), (i+1):(i+2)]\n",
    "            col = item.columns\n",
    "            row = item.index\n",
    "            val = item.values\n",
    "            if abs(val) >= corr_val:\n",
    "                # Prints the correlated feature set and the corr val\n",
    "                print(col.values[0], \"|\", row.values[0], \"|\", round(val[0][0], 2))\n",
    "                drop_cols.append(i)\n",
    "\n",
    "    drops = sorted(set(drop_cols))[::-1]\n",
    "\n",
    "    # Drops the correlated columns\n",
    "    for i in drops:\n",
    "        col = x.iloc[:, (i+1):(i+2)].columns.values\n",
    "        x = x.drop(col, axis=1)\n",
    "    return x"
   ]
  },
  {
   "cell_type": "code",
   "execution_count": 58,
   "metadata": {
    "scrolled": true
   },
   "outputs": [
    {
     "data": {
      "text/html": [
       "<div>\n",
       "<style scoped>\n",
       "    .dataframe tbody tr th:only-of-type {\n",
       "        vertical-align: middle;\n",
       "    }\n",
       "\n",
       "    .dataframe tbody tr th {\n",
       "        vertical-align: top;\n",
       "    }\n",
       "\n",
       "    .dataframe thead th {\n",
       "        text-align: right;\n",
       "    }\n",
       "</style>\n",
       "<table border=\"1\" class=\"dataframe\">\n",
       "  <thead>\n",
       "    <tr style=\"text-align: right;\">\n",
       "      <th></th>\n",
       "      <th>checkin_acc</th>\n",
       "      <th>duration</th>\n",
       "      <th>credit_history</th>\n",
       "      <th>purpose</th>\n",
       "      <th>amount</th>\n",
       "      <th>saving_acc</th>\n",
       "      <th>present_emp_since</th>\n",
       "      <th>inst_rate</th>\n",
       "      <th>personal_status</th>\n",
       "      <th>other_debtors</th>\n",
       "      <th>...</th>\n",
       "      <th>property</th>\n",
       "      <th>age</th>\n",
       "      <th>inst_plans</th>\n",
       "      <th>housing</th>\n",
       "      <th>num_credits</th>\n",
       "      <th>job</th>\n",
       "      <th>dependents</th>\n",
       "      <th>telephone</th>\n",
       "      <th>foreign_worker</th>\n",
       "      <th>status</th>\n",
       "    </tr>\n",
       "  </thead>\n",
       "  <tbody>\n",
       "    <tr>\n",
       "      <th>0</th>\n",
       "      <td>negative</td>\n",
       "      <td>6</td>\n",
       "      <td>credits due</td>\n",
       "      <td>radio/television</td>\n",
       "      <td>1169</td>\n",
       "      <td>no account</td>\n",
       "      <td>more than 7</td>\n",
       "      <td>4</td>\n",
       "      <td>male:single</td>\n",
       "      <td>none</td>\n",
       "      <td>...</td>\n",
       "      <td>real estate</td>\n",
       "      <td>67</td>\n",
       "      <td>none</td>\n",
       "      <td>own</td>\n",
       "      <td>2</td>\n",
       "      <td>skilled/official</td>\n",
       "      <td>1</td>\n",
       "      <td>yes</td>\n",
       "      <td>yes</td>\n",
       "      <td>0</td>\n",
       "    </tr>\n",
       "    <tr>\n",
       "      <th>1</th>\n",
       "      <td>little</td>\n",
       "      <td>48</td>\n",
       "      <td>existing credits paid</td>\n",
       "      <td>radio/television</td>\n",
       "      <td>5951</td>\n",
       "      <td>little</td>\n",
       "      <td>1-4 years</td>\n",
       "      <td>2</td>\n",
       "      <td>female:divorced/seperated/widowed</td>\n",
       "      <td>none</td>\n",
       "      <td>...</td>\n",
       "      <td>real estate</td>\n",
       "      <td>22</td>\n",
       "      <td>none</td>\n",
       "      <td>own</td>\n",
       "      <td>1</td>\n",
       "      <td>skilled/official</td>\n",
       "      <td>1</td>\n",
       "      <td>no</td>\n",
       "      <td>yes</td>\n",
       "      <td>1</td>\n",
       "    </tr>\n",
       "    <tr>\n",
       "      <th>2</th>\n",
       "      <td>no account</td>\n",
       "      <td>12</td>\n",
       "      <td>credits due</td>\n",
       "      <td>education</td>\n",
       "      <td>2096</td>\n",
       "      <td>little</td>\n",
       "      <td>4-7 years</td>\n",
       "      <td>2</td>\n",
       "      <td>male:single</td>\n",
       "      <td>none</td>\n",
       "      <td>...</td>\n",
       "      <td>real estate</td>\n",
       "      <td>49</td>\n",
       "      <td>none</td>\n",
       "      <td>own</td>\n",
       "      <td>1</td>\n",
       "      <td>unskilled-R</td>\n",
       "      <td>2</td>\n",
       "      <td>no</td>\n",
       "      <td>yes</td>\n",
       "      <td>0</td>\n",
       "    </tr>\n",
       "    <tr>\n",
       "      <th>3</th>\n",
       "      <td>negative</td>\n",
       "      <td>42</td>\n",
       "      <td>existing credits paid</td>\n",
       "      <td>furniture/equipment</td>\n",
       "      <td>7882</td>\n",
       "      <td>little</td>\n",
       "      <td>4-7 years</td>\n",
       "      <td>2</td>\n",
       "      <td>male:single</td>\n",
       "      <td>guarantor</td>\n",
       "      <td>...</td>\n",
       "      <td>building society/life insurance</td>\n",
       "      <td>45</td>\n",
       "      <td>none</td>\n",
       "      <td>for free</td>\n",
       "      <td>1</td>\n",
       "      <td>skilled/official</td>\n",
       "      <td>2</td>\n",
       "      <td>no</td>\n",
       "      <td>yes</td>\n",
       "      <td>0</td>\n",
       "    </tr>\n",
       "    <tr>\n",
       "      <th>4</th>\n",
       "      <td>negative</td>\n",
       "      <td>24</td>\n",
       "      <td>existing credits paid</td>\n",
       "      <td>car(new)</td>\n",
       "      <td>4870</td>\n",
       "      <td>little</td>\n",
       "      <td>1-4 years</td>\n",
       "      <td>3</td>\n",
       "      <td>male:single</td>\n",
       "      <td>none</td>\n",
       "      <td>...</td>\n",
       "      <td>no property</td>\n",
       "      <td>53</td>\n",
       "      <td>none</td>\n",
       "      <td>for free</td>\n",
       "      <td>2</td>\n",
       "      <td>skilled/official</td>\n",
       "      <td>2</td>\n",
       "      <td>no</td>\n",
       "      <td>yes</td>\n",
       "      <td>1</td>\n",
       "    </tr>\n",
       "    <tr>\n",
       "      <th>5</th>\n",
       "      <td>no account</td>\n",
       "      <td>36</td>\n",
       "      <td>existing credits paid</td>\n",
       "      <td>education</td>\n",
       "      <td>9055</td>\n",
       "      <td>no account</td>\n",
       "      <td>1-4 years</td>\n",
       "      <td>2</td>\n",
       "      <td>male:single</td>\n",
       "      <td>none</td>\n",
       "      <td>...</td>\n",
       "      <td>no property</td>\n",
       "      <td>35</td>\n",
       "      <td>none</td>\n",
       "      <td>for free</td>\n",
       "      <td>1</td>\n",
       "      <td>unskilled-R</td>\n",
       "      <td>2</td>\n",
       "      <td>yes</td>\n",
       "      <td>yes</td>\n",
       "      <td>0</td>\n",
       "    </tr>\n",
       "    <tr>\n",
       "      <th>6</th>\n",
       "      <td>no account</td>\n",
       "      <td>24</td>\n",
       "      <td>existing credits paid</td>\n",
       "      <td>furniture/equipment</td>\n",
       "      <td>2835</td>\n",
       "      <td>rich</td>\n",
       "      <td>more than 7</td>\n",
       "      <td>3</td>\n",
       "      <td>male:single</td>\n",
       "      <td>none</td>\n",
       "      <td>...</td>\n",
       "      <td>building society/life insurance</td>\n",
       "      <td>53</td>\n",
       "      <td>none</td>\n",
       "      <td>own</td>\n",
       "      <td>1</td>\n",
       "      <td>skilled/official</td>\n",
       "      <td>1</td>\n",
       "      <td>no</td>\n",
       "      <td>yes</td>\n",
       "      <td>0</td>\n",
       "    </tr>\n",
       "    <tr>\n",
       "      <th>7</th>\n",
       "      <td>little</td>\n",
       "      <td>36</td>\n",
       "      <td>existing credits paid</td>\n",
       "      <td>car(used)</td>\n",
       "      <td>6948</td>\n",
       "      <td>little</td>\n",
       "      <td>1-4 years</td>\n",
       "      <td>2</td>\n",
       "      <td>male:single</td>\n",
       "      <td>none</td>\n",
       "      <td>...</td>\n",
       "      <td>car or not</td>\n",
       "      <td>35</td>\n",
       "      <td>none</td>\n",
       "      <td>rent</td>\n",
       "      <td>1</td>\n",
       "      <td>Highly skilled/management</td>\n",
       "      <td>1</td>\n",
       "      <td>yes</td>\n",
       "      <td>yes</td>\n",
       "      <td>0</td>\n",
       "    </tr>\n",
       "    <tr>\n",
       "      <th>8</th>\n",
       "      <td>no account</td>\n",
       "      <td>12</td>\n",
       "      <td>existing credits paid</td>\n",
       "      <td>radio/television</td>\n",
       "      <td>3059</td>\n",
       "      <td>very rich</td>\n",
       "      <td>4-7 years</td>\n",
       "      <td>2</td>\n",
       "      <td>male:divorced/seperated</td>\n",
       "      <td>none</td>\n",
       "      <td>...</td>\n",
       "      <td>real estate</td>\n",
       "      <td>61</td>\n",
       "      <td>none</td>\n",
       "      <td>own</td>\n",
       "      <td>1</td>\n",
       "      <td>unskilled-R</td>\n",
       "      <td>1</td>\n",
       "      <td>no</td>\n",
       "      <td>yes</td>\n",
       "      <td>0</td>\n",
       "    </tr>\n",
       "    <tr>\n",
       "      <th>9</th>\n",
       "      <td>little</td>\n",
       "      <td>30</td>\n",
       "      <td>credits due</td>\n",
       "      <td>car(new)</td>\n",
       "      <td>5234</td>\n",
       "      <td>little</td>\n",
       "      <td>unemployed</td>\n",
       "      <td>4</td>\n",
       "      <td>male:married/widowed</td>\n",
       "      <td>none</td>\n",
       "      <td>...</td>\n",
       "      <td>car or not</td>\n",
       "      <td>28</td>\n",
       "      <td>none</td>\n",
       "      <td>own</td>\n",
       "      <td>2</td>\n",
       "      <td>Highly skilled/management</td>\n",
       "      <td>1</td>\n",
       "      <td>no</td>\n",
       "      <td>yes</td>\n",
       "      <td>1</td>\n",
       "    </tr>\n",
       "    <tr>\n",
       "      <th>10</th>\n",
       "      <td>little</td>\n",
       "      <td>12</td>\n",
       "      <td>existing credits paid</td>\n",
       "      <td>car(new)</td>\n",
       "      <td>1295</td>\n",
       "      <td>little</td>\n",
       "      <td>less than 1</td>\n",
       "      <td>3</td>\n",
       "      <td>female:divorced/seperated/widowed</td>\n",
       "      <td>none</td>\n",
       "      <td>...</td>\n",
       "      <td>car or not</td>\n",
       "      <td>25</td>\n",
       "      <td>none</td>\n",
       "      <td>rent</td>\n",
       "      <td>1</td>\n",
       "      <td>skilled/official</td>\n",
       "      <td>1</td>\n",
       "      <td>no</td>\n",
       "      <td>yes</td>\n",
       "      <td>1</td>\n",
       "    </tr>\n",
       "    <tr>\n",
       "      <th>11</th>\n",
       "      <td>negative</td>\n",
       "      <td>48</td>\n",
       "      <td>existing credits paid</td>\n",
       "      <td>business</td>\n",
       "      <td>4308</td>\n",
       "      <td>little</td>\n",
       "      <td>less than 1</td>\n",
       "      <td>3</td>\n",
       "      <td>female:divorced/seperated/widowed</td>\n",
       "      <td>none</td>\n",
       "      <td>...</td>\n",
       "      <td>building society/life insurance</td>\n",
       "      <td>24</td>\n",
       "      <td>none</td>\n",
       "      <td>rent</td>\n",
       "      <td>1</td>\n",
       "      <td>skilled/official</td>\n",
       "      <td>1</td>\n",
       "      <td>no</td>\n",
       "      <td>yes</td>\n",
       "      <td>1</td>\n",
       "    </tr>\n",
       "    <tr>\n",
       "      <th>12</th>\n",
       "      <td>little</td>\n",
       "      <td>12</td>\n",
       "      <td>existing credits paid</td>\n",
       "      <td>radio/television</td>\n",
       "      <td>1567</td>\n",
       "      <td>little</td>\n",
       "      <td>1-4 years</td>\n",
       "      <td>1</td>\n",
       "      <td>female:divorced/seperated/widowed</td>\n",
       "      <td>none</td>\n",
       "      <td>...</td>\n",
       "      <td>car or not</td>\n",
       "      <td>22</td>\n",
       "      <td>none</td>\n",
       "      <td>own</td>\n",
       "      <td>1</td>\n",
       "      <td>skilled/official</td>\n",
       "      <td>1</td>\n",
       "      <td>yes</td>\n",
       "      <td>yes</td>\n",
       "      <td>0</td>\n",
       "    </tr>\n",
       "    <tr>\n",
       "      <th>13</th>\n",
       "      <td>negative</td>\n",
       "      <td>24</td>\n",
       "      <td>credits due</td>\n",
       "      <td>car(new)</td>\n",
       "      <td>1199</td>\n",
       "      <td>little</td>\n",
       "      <td>more than 7</td>\n",
       "      <td>4</td>\n",
       "      <td>male:single</td>\n",
       "      <td>none</td>\n",
       "      <td>...</td>\n",
       "      <td>car or not</td>\n",
       "      <td>60</td>\n",
       "      <td>none</td>\n",
       "      <td>own</td>\n",
       "      <td>2</td>\n",
       "      <td>unskilled-R</td>\n",
       "      <td>1</td>\n",
       "      <td>no</td>\n",
       "      <td>yes</td>\n",
       "      <td>1</td>\n",
       "    </tr>\n",
       "    <tr>\n",
       "      <th>14</th>\n",
       "      <td>negative</td>\n",
       "      <td>15</td>\n",
       "      <td>existing credits paid</td>\n",
       "      <td>car(new)</td>\n",
       "      <td>1403</td>\n",
       "      <td>little</td>\n",
       "      <td>1-4 years</td>\n",
       "      <td>2</td>\n",
       "      <td>female:divorced/seperated/widowed</td>\n",
       "      <td>none</td>\n",
       "      <td>...</td>\n",
       "      <td>car or not</td>\n",
       "      <td>28</td>\n",
       "      <td>none</td>\n",
       "      <td>rent</td>\n",
       "      <td>1</td>\n",
       "      <td>skilled/official</td>\n",
       "      <td>1</td>\n",
       "      <td>no</td>\n",
       "      <td>yes</td>\n",
       "      <td>0</td>\n",
       "    </tr>\n",
       "    <tr>\n",
       "      <th>15</th>\n",
       "      <td>negative</td>\n",
       "      <td>24</td>\n",
       "      <td>existing credits paid</td>\n",
       "      <td>radio/television</td>\n",
       "      <td>1282</td>\n",
       "      <td>moderate</td>\n",
       "      <td>1-4 years</td>\n",
       "      <td>4</td>\n",
       "      <td>female:divorced/seperated/widowed</td>\n",
       "      <td>none</td>\n",
       "      <td>...</td>\n",
       "      <td>car or not</td>\n",
       "      <td>32</td>\n",
       "      <td>none</td>\n",
       "      <td>own</td>\n",
       "      <td>1</td>\n",
       "      <td>unskilled-R</td>\n",
       "      <td>1</td>\n",
       "      <td>no</td>\n",
       "      <td>yes</td>\n",
       "      <td>1</td>\n",
       "    </tr>\n",
       "    <tr>\n",
       "      <th>16</th>\n",
       "      <td>no account</td>\n",
       "      <td>24</td>\n",
       "      <td>credits due</td>\n",
       "      <td>radio/television</td>\n",
       "      <td>2424</td>\n",
       "      <td>no account</td>\n",
       "      <td>more than 7</td>\n",
       "      <td>4</td>\n",
       "      <td>male:single</td>\n",
       "      <td>none</td>\n",
       "      <td>...</td>\n",
       "      <td>building society/life insurance</td>\n",
       "      <td>53</td>\n",
       "      <td>none</td>\n",
       "      <td>own</td>\n",
       "      <td>2</td>\n",
       "      <td>skilled/official</td>\n",
       "      <td>1</td>\n",
       "      <td>no</td>\n",
       "      <td>yes</td>\n",
       "      <td>0</td>\n",
       "    </tr>\n",
       "    <tr>\n",
       "      <th>17</th>\n",
       "      <td>negative</td>\n",
       "      <td>30</td>\n",
       "      <td>no credit history</td>\n",
       "      <td>business</td>\n",
       "      <td>8072</td>\n",
       "      <td>no account</td>\n",
       "      <td>less than 1</td>\n",
       "      <td>2</td>\n",
       "      <td>male:single</td>\n",
       "      <td>none</td>\n",
       "      <td>...</td>\n",
       "      <td>car or not</td>\n",
       "      <td>25</td>\n",
       "      <td>bank</td>\n",
       "      <td>own</td>\n",
       "      <td>3</td>\n",
       "      <td>skilled/official</td>\n",
       "      <td>1</td>\n",
       "      <td>no</td>\n",
       "      <td>yes</td>\n",
       "      <td>0</td>\n",
       "    </tr>\n",
       "    <tr>\n",
       "      <th>18</th>\n",
       "      <td>little</td>\n",
       "      <td>24</td>\n",
       "      <td>existing credits paid</td>\n",
       "      <td>car(used)</td>\n",
       "      <td>12579</td>\n",
       "      <td>little</td>\n",
       "      <td>more than 7</td>\n",
       "      <td>4</td>\n",
       "      <td>female:divorced/seperated/widowed</td>\n",
       "      <td>none</td>\n",
       "      <td>...</td>\n",
       "      <td>no property</td>\n",
       "      <td>44</td>\n",
       "      <td>none</td>\n",
       "      <td>for free</td>\n",
       "      <td>1</td>\n",
       "      <td>Highly skilled/management</td>\n",
       "      <td>1</td>\n",
       "      <td>yes</td>\n",
       "      <td>yes</td>\n",
       "      <td>1</td>\n",
       "    </tr>\n",
       "    <tr>\n",
       "      <th>19</th>\n",
       "      <td>no account</td>\n",
       "      <td>24</td>\n",
       "      <td>existing credits paid</td>\n",
       "      <td>radio/television</td>\n",
       "      <td>3430</td>\n",
       "      <td>rich</td>\n",
       "      <td>more than 7</td>\n",
       "      <td>3</td>\n",
       "      <td>male:single</td>\n",
       "      <td>none</td>\n",
       "      <td>...</td>\n",
       "      <td>car or not</td>\n",
       "      <td>31</td>\n",
       "      <td>none</td>\n",
       "      <td>own</td>\n",
       "      <td>1</td>\n",
       "      <td>skilled/official</td>\n",
       "      <td>2</td>\n",
       "      <td>yes</td>\n",
       "      <td>yes</td>\n",
       "      <td>0</td>\n",
       "    </tr>\n",
       "    <tr>\n",
       "      <th>20</th>\n",
       "      <td>no account</td>\n",
       "      <td>9</td>\n",
       "      <td>credits due</td>\n",
       "      <td>car(new)</td>\n",
       "      <td>2134</td>\n",
       "      <td>little</td>\n",
       "      <td>1-4 years</td>\n",
       "      <td>4</td>\n",
       "      <td>male:single</td>\n",
       "      <td>none</td>\n",
       "      <td>...</td>\n",
       "      <td>car or not</td>\n",
       "      <td>48</td>\n",
       "      <td>none</td>\n",
       "      <td>own</td>\n",
       "      <td>3</td>\n",
       "      <td>skilled/official</td>\n",
       "      <td>1</td>\n",
       "      <td>yes</td>\n",
       "      <td>yes</td>\n",
       "      <td>0</td>\n",
       "    </tr>\n",
       "    <tr>\n",
       "      <th>21</th>\n",
       "      <td>negative</td>\n",
       "      <td>6</td>\n",
       "      <td>existing credits paid</td>\n",
       "      <td>radio/television</td>\n",
       "      <td>2647</td>\n",
       "      <td>rich</td>\n",
       "      <td>1-4 years</td>\n",
       "      <td>2</td>\n",
       "      <td>male:single</td>\n",
       "      <td>none</td>\n",
       "      <td>...</td>\n",
       "      <td>real estate</td>\n",
       "      <td>44</td>\n",
       "      <td>none</td>\n",
       "      <td>rent</td>\n",
       "      <td>1</td>\n",
       "      <td>skilled/official</td>\n",
       "      <td>2</td>\n",
       "      <td>no</td>\n",
       "      <td>yes</td>\n",
       "      <td>0</td>\n",
       "    </tr>\n",
       "    <tr>\n",
       "      <th>22</th>\n",
       "      <td>negative</td>\n",
       "      <td>10</td>\n",
       "      <td>credits due</td>\n",
       "      <td>car(new)</td>\n",
       "      <td>2241</td>\n",
       "      <td>little</td>\n",
       "      <td>less than 1</td>\n",
       "      <td>1</td>\n",
       "      <td>male:single</td>\n",
       "      <td>none</td>\n",
       "      <td>...</td>\n",
       "      <td>real estate</td>\n",
       "      <td>48</td>\n",
       "      <td>none</td>\n",
       "      <td>rent</td>\n",
       "      <td>2</td>\n",
       "      <td>unskilled-R</td>\n",
       "      <td>2</td>\n",
       "      <td>no</td>\n",
       "      <td>no</td>\n",
       "      <td>0</td>\n",
       "    </tr>\n",
       "    <tr>\n",
       "      <th>23</th>\n",
       "      <td>little</td>\n",
       "      <td>12</td>\n",
       "      <td>credits due</td>\n",
       "      <td>car(used)</td>\n",
       "      <td>1804</td>\n",
       "      <td>moderate</td>\n",
       "      <td>less than 1</td>\n",
       "      <td>3</td>\n",
       "      <td>male:single</td>\n",
       "      <td>none</td>\n",
       "      <td>...</td>\n",
       "      <td>building society/life insurance</td>\n",
       "      <td>44</td>\n",
       "      <td>none</td>\n",
       "      <td>own</td>\n",
       "      <td>1</td>\n",
       "      <td>skilled/official</td>\n",
       "      <td>1</td>\n",
       "      <td>no</td>\n",
       "      <td>yes</td>\n",
       "      <td>0</td>\n",
       "    </tr>\n",
       "    <tr>\n",
       "      <th>24</th>\n",
       "      <td>no account</td>\n",
       "      <td>10</td>\n",
       "      <td>credits due</td>\n",
       "      <td>furniture/equipment</td>\n",
       "      <td>2069</td>\n",
       "      <td>no account</td>\n",
       "      <td>1-4 years</td>\n",
       "      <td>2</td>\n",
       "      <td>male:married/widowed</td>\n",
       "      <td>none</td>\n",
       "      <td>...</td>\n",
       "      <td>car or not</td>\n",
       "      <td>26</td>\n",
       "      <td>none</td>\n",
       "      <td>own</td>\n",
       "      <td>2</td>\n",
       "      <td>skilled/official</td>\n",
       "      <td>1</td>\n",
       "      <td>no</td>\n",
       "      <td>no</td>\n",
       "      <td>0</td>\n",
       "    </tr>\n",
       "    <tr>\n",
       "      <th>25</th>\n",
       "      <td>negative</td>\n",
       "      <td>6</td>\n",
       "      <td>existing credits paid</td>\n",
       "      <td>furniture/equipment</td>\n",
       "      <td>1374</td>\n",
       "      <td>little</td>\n",
       "      <td>1-4 years</td>\n",
       "      <td>1</td>\n",
       "      <td>male:single</td>\n",
       "      <td>none</td>\n",
       "      <td>...</td>\n",
       "      <td>real estate</td>\n",
       "      <td>36</td>\n",
       "      <td>bank</td>\n",
       "      <td>own</td>\n",
       "      <td>1</td>\n",
       "      <td>unskilled-R</td>\n",
       "      <td>1</td>\n",
       "      <td>yes</td>\n",
       "      <td>yes</td>\n",
       "      <td>0</td>\n",
       "    </tr>\n",
       "    <tr>\n",
       "      <th>26</th>\n",
       "      <td>no account</td>\n",
       "      <td>6</td>\n",
       "      <td>no credit history</td>\n",
       "      <td>radio/television</td>\n",
       "      <td>426</td>\n",
       "      <td>little</td>\n",
       "      <td>more than 7</td>\n",
       "      <td>4</td>\n",
       "      <td>male:married/widowed</td>\n",
       "      <td>none</td>\n",
       "      <td>...</td>\n",
       "      <td>car or not</td>\n",
       "      <td>39</td>\n",
       "      <td>none</td>\n",
       "      <td>own</td>\n",
       "      <td>1</td>\n",
       "      <td>unskilled-R</td>\n",
       "      <td>1</td>\n",
       "      <td>no</td>\n",
       "      <td>yes</td>\n",
       "      <td>0</td>\n",
       "    </tr>\n",
       "    <tr>\n",
       "      <th>27</th>\n",
       "      <td>moderate</td>\n",
       "      <td>12</td>\n",
       "      <td>all credit paid at bank</td>\n",
       "      <td>radio/television</td>\n",
       "      <td>409</td>\n",
       "      <td>very rich</td>\n",
       "      <td>1-4 years</td>\n",
       "      <td>3</td>\n",
       "      <td>female:divorced/seperated/widowed</td>\n",
       "      <td>none</td>\n",
       "      <td>...</td>\n",
       "      <td>real estate</td>\n",
       "      <td>42</td>\n",
       "      <td>none</td>\n",
       "      <td>rent</td>\n",
       "      <td>2</td>\n",
       "      <td>skilled/official</td>\n",
       "      <td>1</td>\n",
       "      <td>no</td>\n",
       "      <td>yes</td>\n",
       "      <td>0</td>\n",
       "    </tr>\n",
       "    <tr>\n",
       "      <th>28</th>\n",
       "      <td>little</td>\n",
       "      <td>7</td>\n",
       "      <td>existing credits paid</td>\n",
       "      <td>radio/television</td>\n",
       "      <td>2415</td>\n",
       "      <td>little</td>\n",
       "      <td>1-4 years</td>\n",
       "      <td>3</td>\n",
       "      <td>male:single</td>\n",
       "      <td>guarantor</td>\n",
       "      <td>...</td>\n",
       "      <td>real estate</td>\n",
       "      <td>34</td>\n",
       "      <td>none</td>\n",
       "      <td>own</td>\n",
       "      <td>1</td>\n",
       "      <td>skilled/official</td>\n",
       "      <td>1</td>\n",
       "      <td>no</td>\n",
       "      <td>yes</td>\n",
       "      <td>0</td>\n",
       "    </tr>\n",
       "    <tr>\n",
       "      <th>29</th>\n",
       "      <td>negative</td>\n",
       "      <td>60</td>\n",
       "      <td>existing credits paid</td>\n",
       "      <td>business</td>\n",
       "      <td>6836</td>\n",
       "      <td>little</td>\n",
       "      <td>more than 7</td>\n",
       "      <td>3</td>\n",
       "      <td>male:single</td>\n",
       "      <td>none</td>\n",
       "      <td>...</td>\n",
       "      <td>no property</td>\n",
       "      <td>63</td>\n",
       "      <td>none</td>\n",
       "      <td>own</td>\n",
       "      <td>2</td>\n",
       "      <td>skilled/official</td>\n",
       "      <td>1</td>\n",
       "      <td>yes</td>\n",
       "      <td>yes</td>\n",
       "      <td>1</td>\n",
       "    </tr>\n",
       "    <tr>\n",
       "      <th>...</th>\n",
       "      <td>...</td>\n",
       "      <td>...</td>\n",
       "      <td>...</td>\n",
       "      <td>...</td>\n",
       "      <td>...</td>\n",
       "      <td>...</td>\n",
       "      <td>...</td>\n",
       "      <td>...</td>\n",
       "      <td>...</td>\n",
       "      <td>...</td>\n",
       "      <td>...</td>\n",
       "      <td>...</td>\n",
       "      <td>...</td>\n",
       "      <td>...</td>\n",
       "      <td>...</td>\n",
       "      <td>...</td>\n",
       "      <td>...</td>\n",
       "      <td>...</td>\n",
       "      <td>...</td>\n",
       "      <td>...</td>\n",
       "      <td>...</td>\n",
       "    </tr>\n",
       "    <tr>\n",
       "      <th>970</th>\n",
       "      <td>little</td>\n",
       "      <td>15</td>\n",
       "      <td>existing credits paid</td>\n",
       "      <td>repairs</td>\n",
       "      <td>1514</td>\n",
       "      <td>moderate</td>\n",
       "      <td>1-4 years</td>\n",
       "      <td>4</td>\n",
       "      <td>male:single</td>\n",
       "      <td>guarantor</td>\n",
       "      <td>...</td>\n",
       "      <td>real estate</td>\n",
       "      <td>22</td>\n",
       "      <td>none</td>\n",
       "      <td>own</td>\n",
       "      <td>1</td>\n",
       "      <td>skilled/official</td>\n",
       "      <td>1</td>\n",
       "      <td>no</td>\n",
       "      <td>yes</td>\n",
       "      <td>0</td>\n",
       "    </tr>\n",
       "    <tr>\n",
       "      <th>971</th>\n",
       "      <td>no account</td>\n",
       "      <td>24</td>\n",
       "      <td>existing credits paid</td>\n",
       "      <td>car(new)</td>\n",
       "      <td>7393</td>\n",
       "      <td>little</td>\n",
       "      <td>1-4 years</td>\n",
       "      <td>1</td>\n",
       "      <td>male:single</td>\n",
       "      <td>none</td>\n",
       "      <td>...</td>\n",
       "      <td>building society/life insurance</td>\n",
       "      <td>43</td>\n",
       "      <td>none</td>\n",
       "      <td>own</td>\n",
       "      <td>1</td>\n",
       "      <td>unskilled-R</td>\n",
       "      <td>2</td>\n",
       "      <td>no</td>\n",
       "      <td>yes</td>\n",
       "      <td>0</td>\n",
       "    </tr>\n",
       "    <tr>\n",
       "      <th>972</th>\n",
       "      <td>negative</td>\n",
       "      <td>24</td>\n",
       "      <td>all credit paid at bank</td>\n",
       "      <td>car(new)</td>\n",
       "      <td>1193</td>\n",
       "      <td>little</td>\n",
       "      <td>unemployed</td>\n",
       "      <td>1</td>\n",
       "      <td>female:divorced/seperated/widowed</td>\n",
       "      <td>co-applicant</td>\n",
       "      <td>...</td>\n",
       "      <td>no property</td>\n",
       "      <td>29</td>\n",
       "      <td>none</td>\n",
       "      <td>rent</td>\n",
       "      <td>2</td>\n",
       "      <td>unemployed/unskilled-NR</td>\n",
       "      <td>1</td>\n",
       "      <td>no</td>\n",
       "      <td>yes</td>\n",
       "      <td>1</td>\n",
       "    </tr>\n",
       "    <tr>\n",
       "      <th>973</th>\n",
       "      <td>negative</td>\n",
       "      <td>60</td>\n",
       "      <td>existing credits paid</td>\n",
       "      <td>business</td>\n",
       "      <td>7297</td>\n",
       "      <td>little</td>\n",
       "      <td>more than 7</td>\n",
       "      <td>4</td>\n",
       "      <td>male:single</td>\n",
       "      <td>co-applicant</td>\n",
       "      <td>...</td>\n",
       "      <td>no property</td>\n",
       "      <td>36</td>\n",
       "      <td>none</td>\n",
       "      <td>rent</td>\n",
       "      <td>1</td>\n",
       "      <td>skilled/official</td>\n",
       "      <td>1</td>\n",
       "      <td>no</td>\n",
       "      <td>yes</td>\n",
       "      <td>1</td>\n",
       "    </tr>\n",
       "    <tr>\n",
       "      <th>974</th>\n",
       "      <td>no account</td>\n",
       "      <td>30</td>\n",
       "      <td>credits due</td>\n",
       "      <td>radio/television</td>\n",
       "      <td>2831</td>\n",
       "      <td>little</td>\n",
       "      <td>1-4 years</td>\n",
       "      <td>4</td>\n",
       "      <td>female:divorced/seperated/widowed</td>\n",
       "      <td>none</td>\n",
       "      <td>...</td>\n",
       "      <td>car or not</td>\n",
       "      <td>33</td>\n",
       "      <td>none</td>\n",
       "      <td>own</td>\n",
       "      <td>1</td>\n",
       "      <td>skilled/official</td>\n",
       "      <td>1</td>\n",
       "      <td>yes</td>\n",
       "      <td>yes</td>\n",
       "      <td>0</td>\n",
       "    </tr>\n",
       "    <tr>\n",
       "      <th>975</th>\n",
       "      <td>moderate</td>\n",
       "      <td>24</td>\n",
       "      <td>existing credits paid</td>\n",
       "      <td>radio/television</td>\n",
       "      <td>1258</td>\n",
       "      <td>rich</td>\n",
       "      <td>1-4 years</td>\n",
       "      <td>3</td>\n",
       "      <td>female:divorced/seperated/widowed</td>\n",
       "      <td>none</td>\n",
       "      <td>...</td>\n",
       "      <td>car or not</td>\n",
       "      <td>57</td>\n",
       "      <td>none</td>\n",
       "      <td>own</td>\n",
       "      <td>1</td>\n",
       "      <td>unskilled-R</td>\n",
       "      <td>1</td>\n",
       "      <td>no</td>\n",
       "      <td>yes</td>\n",
       "      <td>0</td>\n",
       "    </tr>\n",
       "    <tr>\n",
       "      <th>976</th>\n",
       "      <td>little</td>\n",
       "      <td>6</td>\n",
       "      <td>existing credits paid</td>\n",
       "      <td>radio/television</td>\n",
       "      <td>753</td>\n",
       "      <td>little</td>\n",
       "      <td>1-4 years</td>\n",
       "      <td>2</td>\n",
       "      <td>female:divorced/seperated/widowed</td>\n",
       "      <td>guarantor</td>\n",
       "      <td>...</td>\n",
       "      <td>real estate</td>\n",
       "      <td>64</td>\n",
       "      <td>none</td>\n",
       "      <td>own</td>\n",
       "      <td>1</td>\n",
       "      <td>skilled/official</td>\n",
       "      <td>1</td>\n",
       "      <td>no</td>\n",
       "      <td>yes</td>\n",
       "      <td>0</td>\n",
       "    </tr>\n",
       "    <tr>\n",
       "      <th>977</th>\n",
       "      <td>little</td>\n",
       "      <td>18</td>\n",
       "      <td>existing credits paid</td>\n",
       "      <td>business</td>\n",
       "      <td>2427</td>\n",
       "      <td>no account</td>\n",
       "      <td>more than 7</td>\n",
       "      <td>4</td>\n",
       "      <td>male:single</td>\n",
       "      <td>none</td>\n",
       "      <td>...</td>\n",
       "      <td>building society/life insurance</td>\n",
       "      <td>42</td>\n",
       "      <td>none</td>\n",
       "      <td>own</td>\n",
       "      <td>2</td>\n",
       "      <td>skilled/official</td>\n",
       "      <td>1</td>\n",
       "      <td>no</td>\n",
       "      <td>yes</td>\n",
       "      <td>0</td>\n",
       "    </tr>\n",
       "    <tr>\n",
       "      <th>978</th>\n",
       "      <td>no account</td>\n",
       "      <td>24</td>\n",
       "      <td>existing credits paid</td>\n",
       "      <td>car(new)</td>\n",
       "      <td>2538</td>\n",
       "      <td>little</td>\n",
       "      <td>more than 7</td>\n",
       "      <td>4</td>\n",
       "      <td>male:single</td>\n",
       "      <td>none</td>\n",
       "      <td>...</td>\n",
       "      <td>car or not</td>\n",
       "      <td>47</td>\n",
       "      <td>none</td>\n",
       "      <td>own</td>\n",
       "      <td>2</td>\n",
       "      <td>unskilled-R</td>\n",
       "      <td>2</td>\n",
       "      <td>no</td>\n",
       "      <td>yes</td>\n",
       "      <td>1</td>\n",
       "    </tr>\n",
       "    <tr>\n",
       "      <th>979</th>\n",
       "      <td>little</td>\n",
       "      <td>15</td>\n",
       "      <td>all credit paid at bank</td>\n",
       "      <td>car(new)</td>\n",
       "      <td>1264</td>\n",
       "      <td>moderate</td>\n",
       "      <td>1-4 years</td>\n",
       "      <td>2</td>\n",
       "      <td>male:married/widowed</td>\n",
       "      <td>none</td>\n",
       "      <td>...</td>\n",
       "      <td>building society/life insurance</td>\n",
       "      <td>25</td>\n",
       "      <td>none</td>\n",
       "      <td>rent</td>\n",
       "      <td>1</td>\n",
       "      <td>skilled/official</td>\n",
       "      <td>1</td>\n",
       "      <td>no</td>\n",
       "      <td>yes</td>\n",
       "      <td>1</td>\n",
       "    </tr>\n",
       "    <tr>\n",
       "      <th>980</th>\n",
       "      <td>little</td>\n",
       "      <td>30</td>\n",
       "      <td>credits due</td>\n",
       "      <td>furniture/equipment</td>\n",
       "      <td>8386</td>\n",
       "      <td>little</td>\n",
       "      <td>4-7 years</td>\n",
       "      <td>2</td>\n",
       "      <td>male:single</td>\n",
       "      <td>none</td>\n",
       "      <td>...</td>\n",
       "      <td>building society/life insurance</td>\n",
       "      <td>49</td>\n",
       "      <td>none</td>\n",
       "      <td>own</td>\n",
       "      <td>1</td>\n",
       "      <td>skilled/official</td>\n",
       "      <td>1</td>\n",
       "      <td>no</td>\n",
       "      <td>yes</td>\n",
       "      <td>1</td>\n",
       "    </tr>\n",
       "    <tr>\n",
       "      <th>981</th>\n",
       "      <td>no account</td>\n",
       "      <td>48</td>\n",
       "      <td>existing credits paid</td>\n",
       "      <td>business</td>\n",
       "      <td>4844</td>\n",
       "      <td>little</td>\n",
       "      <td>unemployed</td>\n",
       "      <td>3</td>\n",
       "      <td>male:single</td>\n",
       "      <td>none</td>\n",
       "      <td>...</td>\n",
       "      <td>car or not</td>\n",
       "      <td>33</td>\n",
       "      <td>bank</td>\n",
       "      <td>rent</td>\n",
       "      <td>1</td>\n",
       "      <td>Highly skilled/management</td>\n",
       "      <td>1</td>\n",
       "      <td>yes</td>\n",
       "      <td>yes</td>\n",
       "      <td>1</td>\n",
       "    </tr>\n",
       "    <tr>\n",
       "      <th>982</th>\n",
       "      <td>moderate</td>\n",
       "      <td>21</td>\n",
       "      <td>existing credits paid</td>\n",
       "      <td>car(new)</td>\n",
       "      <td>2923</td>\n",
       "      <td>moderate</td>\n",
       "      <td>1-4 years</td>\n",
       "      <td>1</td>\n",
       "      <td>female:divorced/seperated/widowed</td>\n",
       "      <td>none</td>\n",
       "      <td>...</td>\n",
       "      <td>car or not</td>\n",
       "      <td>28</td>\n",
       "      <td>bank</td>\n",
       "      <td>own</td>\n",
       "      <td>1</td>\n",
       "      <td>Highly skilled/management</td>\n",
       "      <td>1</td>\n",
       "      <td>yes</td>\n",
       "      <td>yes</td>\n",
       "      <td>0</td>\n",
       "    </tr>\n",
       "    <tr>\n",
       "      <th>983</th>\n",
       "      <td>negative</td>\n",
       "      <td>36</td>\n",
       "      <td>existing credits paid</td>\n",
       "      <td>car(used)</td>\n",
       "      <td>8229</td>\n",
       "      <td>little</td>\n",
       "      <td>1-4 years</td>\n",
       "      <td>2</td>\n",
       "      <td>male:single</td>\n",
       "      <td>none</td>\n",
       "      <td>...</td>\n",
       "      <td>building society/life insurance</td>\n",
       "      <td>26</td>\n",
       "      <td>none</td>\n",
       "      <td>own</td>\n",
       "      <td>1</td>\n",
       "      <td>skilled/official</td>\n",
       "      <td>2</td>\n",
       "      <td>no</td>\n",
       "      <td>yes</td>\n",
       "      <td>1</td>\n",
       "    </tr>\n",
       "    <tr>\n",
       "      <th>984</th>\n",
       "      <td>no account</td>\n",
       "      <td>24</td>\n",
       "      <td>credits due</td>\n",
       "      <td>furniture/equipment</td>\n",
       "      <td>2028</td>\n",
       "      <td>little</td>\n",
       "      <td>4-7 years</td>\n",
       "      <td>2</td>\n",
       "      <td>male:single</td>\n",
       "      <td>none</td>\n",
       "      <td>...</td>\n",
       "      <td>building society/life insurance</td>\n",
       "      <td>30</td>\n",
       "      <td>none</td>\n",
       "      <td>own</td>\n",
       "      <td>2</td>\n",
       "      <td>unskilled-R</td>\n",
       "      <td>1</td>\n",
       "      <td>no</td>\n",
       "      <td>yes</td>\n",
       "      <td>0</td>\n",
       "    </tr>\n",
       "    <tr>\n",
       "      <th>985</th>\n",
       "      <td>negative</td>\n",
       "      <td>15</td>\n",
       "      <td>credits due</td>\n",
       "      <td>furniture/equipment</td>\n",
       "      <td>1433</td>\n",
       "      <td>little</td>\n",
       "      <td>1-4 years</td>\n",
       "      <td>4</td>\n",
       "      <td>female:divorced/seperated/widowed</td>\n",
       "      <td>none</td>\n",
       "      <td>...</td>\n",
       "      <td>building society/life insurance</td>\n",
       "      <td>25</td>\n",
       "      <td>none</td>\n",
       "      <td>rent</td>\n",
       "      <td>2</td>\n",
       "      <td>skilled/official</td>\n",
       "      <td>1</td>\n",
       "      <td>no</td>\n",
       "      <td>yes</td>\n",
       "      <td>0</td>\n",
       "    </tr>\n",
       "    <tr>\n",
       "      <th>986</th>\n",
       "      <td>moderate</td>\n",
       "      <td>42</td>\n",
       "      <td>no credit history</td>\n",
       "      <td>business</td>\n",
       "      <td>6289</td>\n",
       "      <td>little</td>\n",
       "      <td>less than 1</td>\n",
       "      <td>2</td>\n",
       "      <td>male:divorced/seperated</td>\n",
       "      <td>none</td>\n",
       "      <td>...</td>\n",
       "      <td>building society/life insurance</td>\n",
       "      <td>33</td>\n",
       "      <td>none</td>\n",
       "      <td>own</td>\n",
       "      <td>2</td>\n",
       "      <td>skilled/official</td>\n",
       "      <td>1</td>\n",
       "      <td>no</td>\n",
       "      <td>yes</td>\n",
       "      <td>0</td>\n",
       "    </tr>\n",
       "    <tr>\n",
       "      <th>987</th>\n",
       "      <td>no account</td>\n",
       "      <td>13</td>\n",
       "      <td>existing credits paid</td>\n",
       "      <td>radio/television</td>\n",
       "      <td>1409</td>\n",
       "      <td>moderate</td>\n",
       "      <td>unemployed</td>\n",
       "      <td>2</td>\n",
       "      <td>female:divorced/seperated/widowed</td>\n",
       "      <td>none</td>\n",
       "      <td>...</td>\n",
       "      <td>real estate</td>\n",
       "      <td>64</td>\n",
       "      <td>none</td>\n",
       "      <td>own</td>\n",
       "      <td>1</td>\n",
       "      <td>skilled/official</td>\n",
       "      <td>1</td>\n",
       "      <td>no</td>\n",
       "      <td>yes</td>\n",
       "      <td>0</td>\n",
       "    </tr>\n",
       "    <tr>\n",
       "      <th>988</th>\n",
       "      <td>negative</td>\n",
       "      <td>24</td>\n",
       "      <td>existing credits paid</td>\n",
       "      <td>car(used)</td>\n",
       "      <td>6579</td>\n",
       "      <td>little</td>\n",
       "      <td>unemployed</td>\n",
       "      <td>4</td>\n",
       "      <td>male:single</td>\n",
       "      <td>none</td>\n",
       "      <td>...</td>\n",
       "      <td>no property</td>\n",
       "      <td>29</td>\n",
       "      <td>none</td>\n",
       "      <td>for free</td>\n",
       "      <td>1</td>\n",
       "      <td>Highly skilled/management</td>\n",
       "      <td>1</td>\n",
       "      <td>yes</td>\n",
       "      <td>yes</td>\n",
       "      <td>0</td>\n",
       "    </tr>\n",
       "    <tr>\n",
       "      <th>989</th>\n",
       "      <td>little</td>\n",
       "      <td>24</td>\n",
       "      <td>credits due</td>\n",
       "      <td>radio/television</td>\n",
       "      <td>1743</td>\n",
       "      <td>little</td>\n",
       "      <td>more than 7</td>\n",
       "      <td>4</td>\n",
       "      <td>male:single</td>\n",
       "      <td>none</td>\n",
       "      <td>...</td>\n",
       "      <td>building society/life insurance</td>\n",
       "      <td>48</td>\n",
       "      <td>none</td>\n",
       "      <td>own</td>\n",
       "      <td>2</td>\n",
       "      <td>unskilled-R</td>\n",
       "      <td>1</td>\n",
       "      <td>no</td>\n",
       "      <td>yes</td>\n",
       "      <td>0</td>\n",
       "    </tr>\n",
       "    <tr>\n",
       "      <th>990</th>\n",
       "      <td>no account</td>\n",
       "      <td>12</td>\n",
       "      <td>credits due</td>\n",
       "      <td>education</td>\n",
       "      <td>3565</td>\n",
       "      <td>no account</td>\n",
       "      <td>less than 1</td>\n",
       "      <td>2</td>\n",
       "      <td>male:single</td>\n",
       "      <td>none</td>\n",
       "      <td>...</td>\n",
       "      <td>building society/life insurance</td>\n",
       "      <td>37</td>\n",
       "      <td>none</td>\n",
       "      <td>own</td>\n",
       "      <td>2</td>\n",
       "      <td>unskilled-R</td>\n",
       "      <td>2</td>\n",
       "      <td>no</td>\n",
       "      <td>yes</td>\n",
       "      <td>0</td>\n",
       "    </tr>\n",
       "    <tr>\n",
       "      <th>991</th>\n",
       "      <td>no account</td>\n",
       "      <td>15</td>\n",
       "      <td>all credit paid at bank</td>\n",
       "      <td>radio/television</td>\n",
       "      <td>1569</td>\n",
       "      <td>moderate</td>\n",
       "      <td>more than 7</td>\n",
       "      <td>4</td>\n",
       "      <td>male:single</td>\n",
       "      <td>none</td>\n",
       "      <td>...</td>\n",
       "      <td>car or not</td>\n",
       "      <td>34</td>\n",
       "      <td>bank</td>\n",
       "      <td>own</td>\n",
       "      <td>1</td>\n",
       "      <td>unskilled-R</td>\n",
       "      <td>2</td>\n",
       "      <td>no</td>\n",
       "      <td>yes</td>\n",
       "      <td>0</td>\n",
       "    </tr>\n",
       "    <tr>\n",
       "      <th>992</th>\n",
       "      <td>negative</td>\n",
       "      <td>18</td>\n",
       "      <td>existing credits paid</td>\n",
       "      <td>radio/television</td>\n",
       "      <td>1936</td>\n",
       "      <td>no account</td>\n",
       "      <td>4-7 years</td>\n",
       "      <td>2</td>\n",
       "      <td>male:married/widowed</td>\n",
       "      <td>none</td>\n",
       "      <td>...</td>\n",
       "      <td>car or not</td>\n",
       "      <td>23</td>\n",
       "      <td>none</td>\n",
       "      <td>rent</td>\n",
       "      <td>2</td>\n",
       "      <td>unskilled-R</td>\n",
       "      <td>1</td>\n",
       "      <td>no</td>\n",
       "      <td>yes</td>\n",
       "      <td>0</td>\n",
       "    </tr>\n",
       "    <tr>\n",
       "      <th>993</th>\n",
       "      <td>negative</td>\n",
       "      <td>36</td>\n",
       "      <td>existing credits paid</td>\n",
       "      <td>furniture/equipment</td>\n",
       "      <td>3959</td>\n",
       "      <td>little</td>\n",
       "      <td>unemployed</td>\n",
       "      <td>4</td>\n",
       "      <td>male:single</td>\n",
       "      <td>none</td>\n",
       "      <td>...</td>\n",
       "      <td>building society/life insurance</td>\n",
       "      <td>30</td>\n",
       "      <td>none</td>\n",
       "      <td>own</td>\n",
       "      <td>1</td>\n",
       "      <td>Highly skilled/management</td>\n",
       "      <td>1</td>\n",
       "      <td>yes</td>\n",
       "      <td>yes</td>\n",
       "      <td>0</td>\n",
       "    </tr>\n",
       "    <tr>\n",
       "      <th>994</th>\n",
       "      <td>no account</td>\n",
       "      <td>12</td>\n",
       "      <td>existing credits paid</td>\n",
       "      <td>car(new)</td>\n",
       "      <td>2390</td>\n",
       "      <td>no account</td>\n",
       "      <td>more than 7</td>\n",
       "      <td>4</td>\n",
       "      <td>male:single</td>\n",
       "      <td>none</td>\n",
       "      <td>...</td>\n",
       "      <td>car or not</td>\n",
       "      <td>50</td>\n",
       "      <td>none</td>\n",
       "      <td>own</td>\n",
       "      <td>1</td>\n",
       "      <td>skilled/official</td>\n",
       "      <td>1</td>\n",
       "      <td>yes</td>\n",
       "      <td>yes</td>\n",
       "      <td>0</td>\n",
       "    </tr>\n",
       "    <tr>\n",
       "      <th>995</th>\n",
       "      <td>no account</td>\n",
       "      <td>12</td>\n",
       "      <td>existing credits paid</td>\n",
       "      <td>furniture/equipment</td>\n",
       "      <td>1736</td>\n",
       "      <td>little</td>\n",
       "      <td>4-7 years</td>\n",
       "      <td>3</td>\n",
       "      <td>female:divorced/seperated/widowed</td>\n",
       "      <td>none</td>\n",
       "      <td>...</td>\n",
       "      <td>real estate</td>\n",
       "      <td>31</td>\n",
       "      <td>none</td>\n",
       "      <td>own</td>\n",
       "      <td>1</td>\n",
       "      <td>unskilled-R</td>\n",
       "      <td>1</td>\n",
       "      <td>no</td>\n",
       "      <td>yes</td>\n",
       "      <td>0</td>\n",
       "    </tr>\n",
       "    <tr>\n",
       "      <th>996</th>\n",
       "      <td>negative</td>\n",
       "      <td>30</td>\n",
       "      <td>existing credits paid</td>\n",
       "      <td>car(used)</td>\n",
       "      <td>3857</td>\n",
       "      <td>little</td>\n",
       "      <td>1-4 years</td>\n",
       "      <td>4</td>\n",
       "      <td>male:divorced/seperated</td>\n",
       "      <td>none</td>\n",
       "      <td>...</td>\n",
       "      <td>building society/life insurance</td>\n",
       "      <td>40</td>\n",
       "      <td>none</td>\n",
       "      <td>own</td>\n",
       "      <td>1</td>\n",
       "      <td>Highly skilled/management</td>\n",
       "      <td>1</td>\n",
       "      <td>yes</td>\n",
       "      <td>yes</td>\n",
       "      <td>0</td>\n",
       "    </tr>\n",
       "    <tr>\n",
       "      <th>997</th>\n",
       "      <td>no account</td>\n",
       "      <td>12</td>\n",
       "      <td>existing credits paid</td>\n",
       "      <td>radio/television</td>\n",
       "      <td>804</td>\n",
       "      <td>little</td>\n",
       "      <td>more than 7</td>\n",
       "      <td>4</td>\n",
       "      <td>male:single</td>\n",
       "      <td>none</td>\n",
       "      <td>...</td>\n",
       "      <td>car or not</td>\n",
       "      <td>38</td>\n",
       "      <td>none</td>\n",
       "      <td>own</td>\n",
       "      <td>1</td>\n",
       "      <td>skilled/official</td>\n",
       "      <td>1</td>\n",
       "      <td>no</td>\n",
       "      <td>yes</td>\n",
       "      <td>0</td>\n",
       "    </tr>\n",
       "    <tr>\n",
       "      <th>998</th>\n",
       "      <td>negative</td>\n",
       "      <td>45</td>\n",
       "      <td>existing credits paid</td>\n",
       "      <td>radio/television</td>\n",
       "      <td>1845</td>\n",
       "      <td>little</td>\n",
       "      <td>1-4 years</td>\n",
       "      <td>4</td>\n",
       "      <td>male:single</td>\n",
       "      <td>none</td>\n",
       "      <td>...</td>\n",
       "      <td>no property</td>\n",
       "      <td>23</td>\n",
       "      <td>none</td>\n",
       "      <td>for free</td>\n",
       "      <td>1</td>\n",
       "      <td>skilled/official</td>\n",
       "      <td>1</td>\n",
       "      <td>yes</td>\n",
       "      <td>yes</td>\n",
       "      <td>1</td>\n",
       "    </tr>\n",
       "    <tr>\n",
       "      <th>999</th>\n",
       "      <td>little</td>\n",
       "      <td>45</td>\n",
       "      <td>credits due</td>\n",
       "      <td>car(used)</td>\n",
       "      <td>4576</td>\n",
       "      <td>moderate</td>\n",
       "      <td>unemployed</td>\n",
       "      <td>3</td>\n",
       "      <td>male:single</td>\n",
       "      <td>none</td>\n",
       "      <td>...</td>\n",
       "      <td>car or not</td>\n",
       "      <td>27</td>\n",
       "      <td>none</td>\n",
       "      <td>own</td>\n",
       "      <td>1</td>\n",
       "      <td>skilled/official</td>\n",
       "      <td>1</td>\n",
       "      <td>no</td>\n",
       "      <td>yes</td>\n",
       "      <td>0</td>\n",
       "    </tr>\n",
       "  </tbody>\n",
       "</table>\n",
       "<p>1000 rows × 21 columns</p>\n",
       "</div>"
      ],
      "text/plain": [
       "    checkin_acc  duration           credit_history              purpose  \\\n",
       "0      negative         6              credits due     radio/television   \n",
       "1        little        48    existing credits paid     radio/television   \n",
       "2    no account        12              credits due            education   \n",
       "3      negative        42    existing credits paid  furniture/equipment   \n",
       "4      negative        24    existing credits paid             car(new)   \n",
       "5    no account        36    existing credits paid            education   \n",
       "6    no account        24    existing credits paid  furniture/equipment   \n",
       "7        little        36    existing credits paid            car(used)   \n",
       "8    no account        12    existing credits paid     radio/television   \n",
       "9        little        30              credits due             car(new)   \n",
       "10       little        12    existing credits paid             car(new)   \n",
       "11     negative        48    existing credits paid             business   \n",
       "12       little        12    existing credits paid     radio/television   \n",
       "13     negative        24              credits due             car(new)   \n",
       "14     negative        15    existing credits paid             car(new)   \n",
       "15     negative        24    existing credits paid     radio/television   \n",
       "16   no account        24              credits due     radio/television   \n",
       "17     negative        30        no credit history             business   \n",
       "18       little        24    existing credits paid            car(used)   \n",
       "19   no account        24    existing credits paid     radio/television   \n",
       "20   no account         9              credits due             car(new)   \n",
       "21     negative         6    existing credits paid     radio/television   \n",
       "22     negative        10              credits due             car(new)   \n",
       "23       little        12              credits due            car(used)   \n",
       "24   no account        10              credits due  furniture/equipment   \n",
       "25     negative         6    existing credits paid  furniture/equipment   \n",
       "26   no account         6        no credit history     radio/television   \n",
       "27     moderate        12  all credit paid at bank     radio/television   \n",
       "28       little         7    existing credits paid     radio/television   \n",
       "29     negative        60    existing credits paid             business   \n",
       "..          ...       ...                      ...                  ...   \n",
       "970      little        15    existing credits paid              repairs   \n",
       "971  no account        24    existing credits paid             car(new)   \n",
       "972    negative        24  all credit paid at bank             car(new)   \n",
       "973    negative        60    existing credits paid             business   \n",
       "974  no account        30              credits due     radio/television   \n",
       "975    moderate        24    existing credits paid     radio/television   \n",
       "976      little         6    existing credits paid     radio/television   \n",
       "977      little        18    existing credits paid             business   \n",
       "978  no account        24    existing credits paid             car(new)   \n",
       "979      little        15  all credit paid at bank             car(new)   \n",
       "980      little        30              credits due  furniture/equipment   \n",
       "981  no account        48    existing credits paid             business   \n",
       "982    moderate        21    existing credits paid             car(new)   \n",
       "983    negative        36    existing credits paid            car(used)   \n",
       "984  no account        24              credits due  furniture/equipment   \n",
       "985    negative        15              credits due  furniture/equipment   \n",
       "986    moderate        42        no credit history             business   \n",
       "987  no account        13    existing credits paid     radio/television   \n",
       "988    negative        24    existing credits paid            car(used)   \n",
       "989      little        24              credits due     radio/television   \n",
       "990  no account        12              credits due            education   \n",
       "991  no account        15  all credit paid at bank     radio/television   \n",
       "992    negative        18    existing credits paid     radio/television   \n",
       "993    negative        36    existing credits paid  furniture/equipment   \n",
       "994  no account        12    existing credits paid             car(new)   \n",
       "995  no account        12    existing credits paid  furniture/equipment   \n",
       "996    negative        30    existing credits paid            car(used)   \n",
       "997  no account        12    existing credits paid     radio/television   \n",
       "998    negative        45    existing credits paid     radio/television   \n",
       "999      little        45              credits due            car(used)   \n",
       "\n",
       "     amount  saving_acc present_emp_since  inst_rate  \\\n",
       "0      1169  no account       more than 7          4   \n",
       "1      5951      little         1-4 years          2   \n",
       "2      2096      little         4-7 years          2   \n",
       "3      7882      little         4-7 years          2   \n",
       "4      4870      little         1-4 years          3   \n",
       "5      9055  no account         1-4 years          2   \n",
       "6      2835        rich       more than 7          3   \n",
       "7      6948      little         1-4 years          2   \n",
       "8      3059   very rich         4-7 years          2   \n",
       "9      5234      little        unemployed          4   \n",
       "10     1295      little       less than 1          3   \n",
       "11     4308      little       less than 1          3   \n",
       "12     1567      little         1-4 years          1   \n",
       "13     1199      little       more than 7          4   \n",
       "14     1403      little         1-4 years          2   \n",
       "15     1282    moderate         1-4 years          4   \n",
       "16     2424  no account       more than 7          4   \n",
       "17     8072  no account       less than 1          2   \n",
       "18    12579      little       more than 7          4   \n",
       "19     3430        rich       more than 7          3   \n",
       "20     2134      little         1-4 years          4   \n",
       "21     2647        rich         1-4 years          2   \n",
       "22     2241      little       less than 1          1   \n",
       "23     1804    moderate       less than 1          3   \n",
       "24     2069  no account         1-4 years          2   \n",
       "25     1374      little         1-4 years          1   \n",
       "26      426      little       more than 7          4   \n",
       "27      409   very rich         1-4 years          3   \n",
       "28     2415      little         1-4 years          3   \n",
       "29     6836      little       more than 7          3   \n",
       "..      ...         ...               ...        ...   \n",
       "970    1514    moderate         1-4 years          4   \n",
       "971    7393      little         1-4 years          1   \n",
       "972    1193      little        unemployed          1   \n",
       "973    7297      little       more than 7          4   \n",
       "974    2831      little         1-4 years          4   \n",
       "975    1258        rich         1-4 years          3   \n",
       "976     753      little         1-4 years          2   \n",
       "977    2427  no account       more than 7          4   \n",
       "978    2538      little       more than 7          4   \n",
       "979    1264    moderate         1-4 years          2   \n",
       "980    8386      little         4-7 years          2   \n",
       "981    4844      little        unemployed          3   \n",
       "982    2923    moderate         1-4 years          1   \n",
       "983    8229      little         1-4 years          2   \n",
       "984    2028      little         4-7 years          2   \n",
       "985    1433      little         1-4 years          4   \n",
       "986    6289      little       less than 1          2   \n",
       "987    1409    moderate        unemployed          2   \n",
       "988    6579      little        unemployed          4   \n",
       "989    1743      little       more than 7          4   \n",
       "990    3565  no account       less than 1          2   \n",
       "991    1569    moderate       more than 7          4   \n",
       "992    1936  no account         4-7 years          2   \n",
       "993    3959      little        unemployed          4   \n",
       "994    2390  no account       more than 7          4   \n",
       "995    1736      little         4-7 years          3   \n",
       "996    3857      little         1-4 years          4   \n",
       "997     804      little       more than 7          4   \n",
       "998    1845      little         1-4 years          4   \n",
       "999    4576    moderate        unemployed          3   \n",
       "\n",
       "                       personal_status other_debtors  ...    \\\n",
       "0                          male:single          none  ...     \n",
       "1    female:divorced/seperated/widowed          none  ...     \n",
       "2                          male:single          none  ...     \n",
       "3                          male:single     guarantor  ...     \n",
       "4                          male:single          none  ...     \n",
       "5                          male:single          none  ...     \n",
       "6                          male:single          none  ...     \n",
       "7                          male:single          none  ...     \n",
       "8              male:divorced/seperated          none  ...     \n",
       "9                 male:married/widowed          none  ...     \n",
       "10   female:divorced/seperated/widowed          none  ...     \n",
       "11   female:divorced/seperated/widowed          none  ...     \n",
       "12   female:divorced/seperated/widowed          none  ...     \n",
       "13                         male:single          none  ...     \n",
       "14   female:divorced/seperated/widowed          none  ...     \n",
       "15   female:divorced/seperated/widowed          none  ...     \n",
       "16                         male:single          none  ...     \n",
       "17                         male:single          none  ...     \n",
       "18   female:divorced/seperated/widowed          none  ...     \n",
       "19                         male:single          none  ...     \n",
       "20                         male:single          none  ...     \n",
       "21                         male:single          none  ...     \n",
       "22                         male:single          none  ...     \n",
       "23                         male:single          none  ...     \n",
       "24                male:married/widowed          none  ...     \n",
       "25                         male:single          none  ...     \n",
       "26                male:married/widowed          none  ...     \n",
       "27   female:divorced/seperated/widowed          none  ...     \n",
       "28                         male:single     guarantor  ...     \n",
       "29                         male:single          none  ...     \n",
       "..                                 ...           ...  ...     \n",
       "970                        male:single     guarantor  ...     \n",
       "971                        male:single          none  ...     \n",
       "972  female:divorced/seperated/widowed  co-applicant  ...     \n",
       "973                        male:single  co-applicant  ...     \n",
       "974  female:divorced/seperated/widowed          none  ...     \n",
       "975  female:divorced/seperated/widowed          none  ...     \n",
       "976  female:divorced/seperated/widowed     guarantor  ...     \n",
       "977                        male:single          none  ...     \n",
       "978                        male:single          none  ...     \n",
       "979               male:married/widowed          none  ...     \n",
       "980                        male:single          none  ...     \n",
       "981                        male:single          none  ...     \n",
       "982  female:divorced/seperated/widowed          none  ...     \n",
       "983                        male:single          none  ...     \n",
       "984                        male:single          none  ...     \n",
       "985  female:divorced/seperated/widowed          none  ...     \n",
       "986            male:divorced/seperated          none  ...     \n",
       "987  female:divorced/seperated/widowed          none  ...     \n",
       "988                        male:single          none  ...     \n",
       "989                        male:single          none  ...     \n",
       "990                        male:single          none  ...     \n",
       "991                        male:single          none  ...     \n",
       "992               male:married/widowed          none  ...     \n",
       "993                        male:single          none  ...     \n",
       "994                        male:single          none  ...     \n",
       "995  female:divorced/seperated/widowed          none  ...     \n",
       "996            male:divorced/seperated          none  ...     \n",
       "997                        male:single          none  ...     \n",
       "998                        male:single          none  ...     \n",
       "999                        male:single          none  ...     \n",
       "\n",
       "                            property age  inst_plans   housing num_credits  \\\n",
       "0                        real estate  67        none       own           2   \n",
       "1                        real estate  22        none       own           1   \n",
       "2                        real estate  49        none       own           1   \n",
       "3    building society/life insurance  45        none  for free           1   \n",
       "4                        no property  53        none  for free           2   \n",
       "5                        no property  35        none  for free           1   \n",
       "6    building society/life insurance  53        none       own           1   \n",
       "7                         car or not  35        none      rent           1   \n",
       "8                        real estate  61        none       own           1   \n",
       "9                         car or not  28        none       own           2   \n",
       "10                        car or not  25        none      rent           1   \n",
       "11   building society/life insurance  24        none      rent           1   \n",
       "12                        car or not  22        none       own           1   \n",
       "13                        car or not  60        none       own           2   \n",
       "14                        car or not  28        none      rent           1   \n",
       "15                        car or not  32        none       own           1   \n",
       "16   building society/life insurance  53        none       own           2   \n",
       "17                        car or not  25        bank       own           3   \n",
       "18                       no property  44        none  for free           1   \n",
       "19                        car or not  31        none       own           1   \n",
       "20                        car or not  48        none       own           3   \n",
       "21                       real estate  44        none      rent           1   \n",
       "22                       real estate  48        none      rent           2   \n",
       "23   building society/life insurance  44        none       own           1   \n",
       "24                        car or not  26        none       own           2   \n",
       "25                       real estate  36        bank       own           1   \n",
       "26                        car or not  39        none       own           1   \n",
       "27                       real estate  42        none      rent           2   \n",
       "28                       real estate  34        none       own           1   \n",
       "29                       no property  63        none       own           2   \n",
       "..                               ...  ..         ...       ...         ...   \n",
       "970                      real estate  22        none       own           1   \n",
       "971  building society/life insurance  43        none       own           1   \n",
       "972                      no property  29        none      rent           2   \n",
       "973                      no property  36        none      rent           1   \n",
       "974                       car or not  33        none       own           1   \n",
       "975                       car or not  57        none       own           1   \n",
       "976                      real estate  64        none       own           1   \n",
       "977  building society/life insurance  42        none       own           2   \n",
       "978                       car or not  47        none       own           2   \n",
       "979  building society/life insurance  25        none      rent           1   \n",
       "980  building society/life insurance  49        none       own           1   \n",
       "981                       car or not  33        bank      rent           1   \n",
       "982                       car or not  28        bank       own           1   \n",
       "983  building society/life insurance  26        none       own           1   \n",
       "984  building society/life insurance  30        none       own           2   \n",
       "985  building society/life insurance  25        none      rent           2   \n",
       "986  building society/life insurance  33        none       own           2   \n",
       "987                      real estate  64        none       own           1   \n",
       "988                      no property  29        none  for free           1   \n",
       "989  building society/life insurance  48        none       own           2   \n",
       "990  building society/life insurance  37        none       own           2   \n",
       "991                       car or not  34        bank       own           1   \n",
       "992                       car or not  23        none      rent           2   \n",
       "993  building society/life insurance  30        none       own           1   \n",
       "994                       car or not  50        none       own           1   \n",
       "995                      real estate  31        none       own           1   \n",
       "996  building society/life insurance  40        none       own           1   \n",
       "997                       car or not  38        none       own           1   \n",
       "998                      no property  23        none  for free           1   \n",
       "999                       car or not  27        none       own           1   \n",
       "\n",
       "                           job dependents  telephone foreign_worker status  \n",
       "0             skilled/official          1        yes            yes      0  \n",
       "1             skilled/official          1         no            yes      1  \n",
       "2                  unskilled-R          2         no            yes      0  \n",
       "3             skilled/official          2         no            yes      0  \n",
       "4             skilled/official          2         no            yes      1  \n",
       "5                  unskilled-R          2        yes            yes      0  \n",
       "6             skilled/official          1         no            yes      0  \n",
       "7    Highly skilled/management          1        yes            yes      0  \n",
       "8                  unskilled-R          1         no            yes      0  \n",
       "9    Highly skilled/management          1         no            yes      1  \n",
       "10            skilled/official          1         no            yes      1  \n",
       "11            skilled/official          1         no            yes      1  \n",
       "12            skilled/official          1        yes            yes      0  \n",
       "13                 unskilled-R          1         no            yes      1  \n",
       "14            skilled/official          1         no            yes      0  \n",
       "15                 unskilled-R          1         no            yes      1  \n",
       "16            skilled/official          1         no            yes      0  \n",
       "17            skilled/official          1         no            yes      0  \n",
       "18   Highly skilled/management          1        yes            yes      1  \n",
       "19            skilled/official          2        yes            yes      0  \n",
       "20            skilled/official          1        yes            yes      0  \n",
       "21            skilled/official          2         no            yes      0  \n",
       "22                 unskilled-R          2         no             no      0  \n",
       "23            skilled/official          1         no            yes      0  \n",
       "24            skilled/official          1         no             no      0  \n",
       "25                 unskilled-R          1        yes            yes      0  \n",
       "26                 unskilled-R          1         no            yes      0  \n",
       "27            skilled/official          1         no            yes      0  \n",
       "28            skilled/official          1         no            yes      0  \n",
       "29            skilled/official          1        yes            yes      1  \n",
       "..                         ...        ...        ...            ...    ...  \n",
       "970           skilled/official          1         no            yes      0  \n",
       "971                unskilled-R          2         no            yes      0  \n",
       "972    unemployed/unskilled-NR          1         no            yes      1  \n",
       "973           skilled/official          1         no            yes      1  \n",
       "974           skilled/official          1        yes            yes      0  \n",
       "975                unskilled-R          1         no            yes      0  \n",
       "976           skilled/official          1         no            yes      0  \n",
       "977           skilled/official          1         no            yes      0  \n",
       "978                unskilled-R          2         no            yes      1  \n",
       "979           skilled/official          1         no            yes      1  \n",
       "980           skilled/official          1         no            yes      1  \n",
       "981  Highly skilled/management          1        yes            yes      1  \n",
       "982  Highly skilled/management          1        yes            yes      0  \n",
       "983           skilled/official          2         no            yes      1  \n",
       "984                unskilled-R          1         no            yes      0  \n",
       "985           skilled/official          1         no            yes      0  \n",
       "986           skilled/official          1         no            yes      0  \n",
       "987           skilled/official          1         no            yes      0  \n",
       "988  Highly skilled/management          1        yes            yes      0  \n",
       "989                unskilled-R          1         no            yes      0  \n",
       "990                unskilled-R          2         no            yes      0  \n",
       "991                unskilled-R          2         no            yes      0  \n",
       "992                unskilled-R          1         no            yes      0  \n",
       "993  Highly skilled/management          1        yes            yes      0  \n",
       "994           skilled/official          1        yes            yes      0  \n",
       "995                unskilled-R          1         no            yes      0  \n",
       "996  Highly skilled/management          1        yes            yes      0  \n",
       "997           skilled/official          1         no            yes      0  \n",
       "998           skilled/official          1        yes            yes      1  \n",
       "999           skilled/official          1         no            yes      0  \n",
       "\n",
       "[1000 rows x 21 columns]"
      ]
     },
     "execution_count": 58,
     "metadata": {},
     "output_type": "execute_result"
    }
   ],
   "source": [
    "corr_df(german_data,corr_val=0.9)"
   ]
  },
  {
   "cell_type": "markdown",
   "metadata": {},
   "source": [
    "# FEATURE SELECTION USING CHI SQUARE"
   ]
  },
  {
   "cell_type": "code",
   "execution_count": 59,
   "metadata": {},
   "outputs": [],
   "source": [
    "import scipy.stats as stats\n",
    "from scipy.stats import chi2_contingency\n",
    "\n",
    "class ChiSquare:\n",
    "    def __init__(self, dataframe):\n",
    "        self.df = dataframe\n",
    "        self.p = None #P-Value\n",
    "        self.chi2 = None #Chi Test Statistic\n",
    "        self.dof = None\n",
    "        \n",
    "        self.dfObserved = None\n",
    "        self.dfExpected = None\n",
    "        \n",
    "    def _print_chisquare_result(self, colX, alpha):\n",
    "        result = \"\"\n",
    "        if self.p<alpha:\n",
    "            result=\"{0} is IMPORTANT for Prediction\".format(colX)\n",
    "        else:\n",
    "            result=\"{0} is NOT an important predictor. (Discard {0} from model)\".format(colX)\n",
    "\n",
    "        print(result)\n",
    "        \n",
    "    def TestIndependence(self,colX,colY, alpha=0.05):\n",
    "        X = self.df[colX].astype(str)\n",
    "        Y = self.df[colY].astype(str)\n",
    "        \n",
    "        self.dfObserved = pd.crosstab(Y,X) \n",
    "        chi2, p, dof, expected = stats.chi2_contingency(self.dfObserved.values)\n",
    "        self.p = p\n",
    "        self.chi2 = chi2\n",
    "        self.dof = dof \n",
    "        \n",
    "        self.dfExpected = pd.DataFrame(expected, columns=self.dfObserved.columns, index = self.dfObserved.index)\n",
    "        \n",
    "        self._print_chisquare_result(colX,alpha)"
   ]
  },
  {
   "cell_type": "code",
   "execution_count": 60,
   "metadata": {},
   "outputs": [],
   "source": [
    "german_data1 = german_data.copy()"
   ]
  },
  {
   "cell_type": "code",
   "execution_count": 61,
   "metadata": {},
   "outputs": [],
   "source": [
    "cT = ChiSquare(german_data1)"
   ]
  },
  {
   "cell_type": "code",
   "execution_count": 62,
   "metadata": {},
   "outputs": [
    {
     "data": {
      "text/plain": [
       "checkin_acc          object\n",
       "duration              int64\n",
       "credit_history       object\n",
       "purpose              object\n",
       "amount                int64\n",
       "saving_acc           object\n",
       "present_emp_since    object\n",
       "inst_rate             int64\n",
       "personal_status      object\n",
       "other_debtors        object\n",
       "residing_since        int64\n",
       "property             object\n",
       "age                   int64\n",
       "inst_plans           object\n",
       "housing              object\n",
       "num_credits           int64\n",
       "job                  object\n",
       "dependents            int64\n",
       "telephone            object\n",
       "foreign_worker       object\n",
       "status                int64\n",
       "dtype: object"
      ]
     },
     "execution_count": 62,
     "metadata": {},
     "output_type": "execute_result"
    }
   ],
   "source": [
    "german_data1.dtypes"
   ]
  },
  {
   "cell_type": "code",
   "execution_count": 63,
   "metadata": {},
   "outputs": [],
   "source": [
    "Testcolumns = [\"duration\",\"amount\",\"inst_rate\",\"residing_since\",\"age\",\"num_credits\",\"dependents\",\"checkin_acc\",\"credit_history\",\"purpose\",\"saving_acc\",\"present_emp_since\",\"personal_status\",\"other_debtors\",\"property\",\"inst_plans\",\"housing\",\"job\",\"telephone\",\"foreign_worker\"]"
   ]
  },
  {
   "cell_type": "code",
   "execution_count": 64,
   "metadata": {
    "scrolled": true
   },
   "outputs": [
    {
     "name": "stdout",
     "output_type": "stream",
     "text": [
      "duration is IMPORTANT for Prediction\n",
      "amount is NOT an important predictor. (Discard amount from model)\n",
      "inst_rate is NOT an important predictor. (Discard inst_rate from model)\n",
      "residing_since is NOT an important predictor. (Discard residing_since from model)\n",
      "age is NOT an important predictor. (Discard age from model)\n",
      "num_credits is NOT an important predictor. (Discard num_credits from model)\n",
      "dependents is NOT an important predictor. (Discard dependents from model)\n",
      "checkin_acc is IMPORTANT for Prediction\n",
      "credit_history is IMPORTANT for Prediction\n",
      "purpose is IMPORTANT for Prediction\n",
      "saving_acc is IMPORTANT for Prediction\n",
      "present_emp_since is IMPORTANT for Prediction\n",
      "personal_status is IMPORTANT for Prediction\n",
      "other_debtors is IMPORTANT for Prediction\n",
      "property is IMPORTANT for Prediction\n",
      "inst_plans is IMPORTANT for Prediction\n",
      "housing is IMPORTANT for Prediction\n",
      "job is NOT an important predictor. (Discard job from model)\n",
      "telephone is NOT an important predictor. (Discard telephone from model)\n",
      "foreign_worker is IMPORTANT for Prediction\n"
     ]
    }
   ],
   "source": [
    "for var in Testcolumns:\n",
    "    cT.TestIndependence(colX=var,colY=\"status\" )"
   ]
  },
  {
   "cell_type": "code",
   "execution_count": 65,
   "metadata": {},
   "outputs": [],
   "source": [
    "german_data1.drop(labels=[\"amount\",\"inst_rate\",\"residing_since\",\"age\",\"dependents\",\"job\",\"telephone\"],axis=1,inplace=True)"
   ]
  },
  {
   "cell_type": "code",
   "execution_count": 66,
   "metadata": {},
   "outputs": [],
   "source": [
    "y = german_data1.status"
   ]
  },
  {
   "cell_type": "code",
   "execution_count": 67,
   "metadata": {},
   "outputs": [
    {
     "data": {
      "text/plain": [
       "0    0\n",
       "1    1\n",
       "2    0\n",
       "3    0\n",
       "4    1\n",
       "Name: status, dtype: int64"
      ]
     },
     "execution_count": 67,
     "metadata": {},
     "output_type": "execute_result"
    }
   ],
   "source": [
    "y.head()"
   ]
  },
  {
   "cell_type": "code",
   "execution_count": 68,
   "metadata": {},
   "outputs": [],
   "source": [
    "x = german_data1.drop(labels=\"status\",axis=1)"
   ]
  },
  {
   "cell_type": "code",
   "execution_count": 69,
   "metadata": {},
   "outputs": [
    {
     "data": {
      "text/plain": [
       "(1000, 13)"
      ]
     },
     "execution_count": 69,
     "metadata": {},
     "output_type": "execute_result"
    }
   ],
   "source": [
    "x.shape"
   ]
  },
  {
   "cell_type": "code",
   "execution_count": 70,
   "metadata": {},
   "outputs": [],
   "source": [
    "x = pd.get_dummies(x,prefix_sep=\" :\",drop_first=True)"
   ]
  },
  {
   "cell_type": "code",
   "execution_count": 71,
   "metadata": {},
   "outputs": [
    {
     "data": {
      "text/html": [
       "<div>\n",
       "<style scoped>\n",
       "    .dataframe tbody tr th:only-of-type {\n",
       "        vertical-align: middle;\n",
       "    }\n",
       "\n",
       "    .dataframe tbody tr th {\n",
       "        vertical-align: top;\n",
       "    }\n",
       "\n",
       "    .dataframe thead th {\n",
       "        text-align: right;\n",
       "    }\n",
       "</style>\n",
       "<table border=\"1\" class=\"dataframe\">\n",
       "  <thead>\n",
       "    <tr style=\"text-align: right;\">\n",
       "      <th></th>\n",
       "      <th>duration</th>\n",
       "      <th>num_credits</th>\n",
       "      <th>checkin_acc :moderate</th>\n",
       "      <th>checkin_acc :negative</th>\n",
       "      <th>checkin_acc :no account</th>\n",
       "      <th>credit_history :credits due</th>\n",
       "      <th>credit_history :existing credits paid</th>\n",
       "      <th>credit_history :no credit history</th>\n",
       "      <th>purpose :car(new)</th>\n",
       "      <th>purpose :car(used)</th>\n",
       "      <th>...</th>\n",
       "      <th>other_debtors :guarantor</th>\n",
       "      <th>other_debtors :none</th>\n",
       "      <th>property :car or not</th>\n",
       "      <th>property :no property</th>\n",
       "      <th>property :real estate</th>\n",
       "      <th>inst_plans :none</th>\n",
       "      <th>inst_plans :stores</th>\n",
       "      <th>housing :own</th>\n",
       "      <th>housing :rent</th>\n",
       "      <th>foreign_worker :yes</th>\n",
       "    </tr>\n",
       "  </thead>\n",
       "  <tbody>\n",
       "    <tr>\n",
       "      <th>0</th>\n",
       "      <td>6</td>\n",
       "      <td>2</td>\n",
       "      <td>0</td>\n",
       "      <td>1</td>\n",
       "      <td>0</td>\n",
       "      <td>1</td>\n",
       "      <td>0</td>\n",
       "      <td>0</td>\n",
       "      <td>0</td>\n",
       "      <td>0</td>\n",
       "      <td>...</td>\n",
       "      <td>0</td>\n",
       "      <td>1</td>\n",
       "      <td>0</td>\n",
       "      <td>0</td>\n",
       "      <td>1</td>\n",
       "      <td>1</td>\n",
       "      <td>0</td>\n",
       "      <td>1</td>\n",
       "      <td>0</td>\n",
       "      <td>1</td>\n",
       "    </tr>\n",
       "    <tr>\n",
       "      <th>1</th>\n",
       "      <td>48</td>\n",
       "      <td>1</td>\n",
       "      <td>0</td>\n",
       "      <td>0</td>\n",
       "      <td>0</td>\n",
       "      <td>0</td>\n",
       "      <td>1</td>\n",
       "      <td>0</td>\n",
       "      <td>0</td>\n",
       "      <td>0</td>\n",
       "      <td>...</td>\n",
       "      <td>0</td>\n",
       "      <td>1</td>\n",
       "      <td>0</td>\n",
       "      <td>0</td>\n",
       "      <td>1</td>\n",
       "      <td>1</td>\n",
       "      <td>0</td>\n",
       "      <td>1</td>\n",
       "      <td>0</td>\n",
       "      <td>1</td>\n",
       "    </tr>\n",
       "    <tr>\n",
       "      <th>2</th>\n",
       "      <td>12</td>\n",
       "      <td>1</td>\n",
       "      <td>0</td>\n",
       "      <td>0</td>\n",
       "      <td>1</td>\n",
       "      <td>1</td>\n",
       "      <td>0</td>\n",
       "      <td>0</td>\n",
       "      <td>0</td>\n",
       "      <td>0</td>\n",
       "      <td>...</td>\n",
       "      <td>0</td>\n",
       "      <td>1</td>\n",
       "      <td>0</td>\n",
       "      <td>0</td>\n",
       "      <td>1</td>\n",
       "      <td>1</td>\n",
       "      <td>0</td>\n",
       "      <td>1</td>\n",
       "      <td>0</td>\n",
       "      <td>1</td>\n",
       "    </tr>\n",
       "    <tr>\n",
       "      <th>3</th>\n",
       "      <td>42</td>\n",
       "      <td>1</td>\n",
       "      <td>0</td>\n",
       "      <td>1</td>\n",
       "      <td>0</td>\n",
       "      <td>0</td>\n",
       "      <td>1</td>\n",
       "      <td>0</td>\n",
       "      <td>0</td>\n",
       "      <td>0</td>\n",
       "      <td>...</td>\n",
       "      <td>1</td>\n",
       "      <td>0</td>\n",
       "      <td>0</td>\n",
       "      <td>0</td>\n",
       "      <td>0</td>\n",
       "      <td>1</td>\n",
       "      <td>0</td>\n",
       "      <td>0</td>\n",
       "      <td>0</td>\n",
       "      <td>1</td>\n",
       "    </tr>\n",
       "    <tr>\n",
       "      <th>4</th>\n",
       "      <td>24</td>\n",
       "      <td>2</td>\n",
       "      <td>0</td>\n",
       "      <td>1</td>\n",
       "      <td>0</td>\n",
       "      <td>0</td>\n",
       "      <td>1</td>\n",
       "      <td>0</td>\n",
       "      <td>1</td>\n",
       "      <td>0</td>\n",
       "      <td>...</td>\n",
       "      <td>0</td>\n",
       "      <td>1</td>\n",
       "      <td>0</td>\n",
       "      <td>1</td>\n",
       "      <td>0</td>\n",
       "      <td>1</td>\n",
       "      <td>0</td>\n",
       "      <td>0</td>\n",
       "      <td>0</td>\n",
       "      <td>1</td>\n",
       "    </tr>\n",
       "  </tbody>\n",
       "</table>\n",
       "<p>5 rows × 38 columns</p>\n",
       "</div>"
      ],
      "text/plain": [
       "   duration  num_credits  checkin_acc :moderate  checkin_acc :negative  \\\n",
       "0         6            2                      0                      1   \n",
       "1        48            1                      0                      0   \n",
       "2        12            1                      0                      0   \n",
       "3        42            1                      0                      1   \n",
       "4        24            2                      0                      1   \n",
       "\n",
       "   checkin_acc :no account  credit_history :credits due  \\\n",
       "0                        0                            1   \n",
       "1                        0                            0   \n",
       "2                        1                            1   \n",
       "3                        0                            0   \n",
       "4                        0                            0   \n",
       "\n",
       "   credit_history :existing credits paid  credit_history :no credit history  \\\n",
       "0                                      0                                  0   \n",
       "1                                      1                                  0   \n",
       "2                                      0                                  0   \n",
       "3                                      1                                  0   \n",
       "4                                      1                                  0   \n",
       "\n",
       "   purpose :car(new)  purpose :car(used)         ...           \\\n",
       "0                  0                   0         ...            \n",
       "1                  0                   0         ...            \n",
       "2                  0                   0         ...            \n",
       "3                  0                   0         ...            \n",
       "4                  1                   0         ...            \n",
       "\n",
       "   other_debtors :guarantor  other_debtors :none  property :car or not  \\\n",
       "0                         0                    1                     0   \n",
       "1                         0                    1                     0   \n",
       "2                         0                    1                     0   \n",
       "3                         1                    0                     0   \n",
       "4                         0                    1                     0   \n",
       "\n",
       "   property :no property  property :real estate  inst_plans :none  \\\n",
       "0                      0                      1                 1   \n",
       "1                      0                      1                 1   \n",
       "2                      0                      1                 1   \n",
       "3                      0                      0                 1   \n",
       "4                      1                      0                 1   \n",
       "\n",
       "   inst_plans :stores  housing :own  housing :rent  foreign_worker :yes  \n",
       "0                   0             1              0                    1  \n",
       "1                   0             1              0                    1  \n",
       "2                   0             1              0                    1  \n",
       "3                   0             0              0                    1  \n",
       "4                   0             0              0                    1  \n",
       "\n",
       "[5 rows x 38 columns]"
      ]
     },
     "execution_count": 71,
     "metadata": {},
     "output_type": "execute_result"
    }
   ],
   "source": [
    "x.head()"
   ]
  },
  {
   "cell_type": "markdown",
   "metadata": {},
   "source": [
    "# MODEL BUILDING"
   ]
  },
  {
   "cell_type": "markdown",
   "metadata": {},
   "source": [
    "LOGISTIC REGRESSION "
   ]
  },
  {
   "cell_type": "code",
   "execution_count": 72,
   "metadata": {},
   "outputs": [],
   "source": [
    "from sklearn.linear_model import LogisticRegression"
   ]
  },
  {
   "cell_type": "code",
   "execution_count": 73,
   "metadata": {},
   "outputs": [],
   "source": [
    "lr = LogisticRegression(n_jobs=-1)"
   ]
  },
  {
   "cell_type": "code",
   "execution_count": 74,
   "metadata": {},
   "outputs": [],
   "source": [
    "from sklearn.preprocessing import StandardScaler"
   ]
  },
  {
   "cell_type": "code",
   "execution_count": 75,
   "metadata": {},
   "outputs": [],
   "source": [
    "from sklearn.model_selection import GridSearchCV\n",
    "from sklearn.metrics import classification_report,roc_auc_score,confusion_matrix"
   ]
  },
  {
   "cell_type": "code",
   "execution_count": 76,
   "metadata": {},
   "outputs": [],
   "source": [
    "scaler = StandardScaler()"
   ]
  },
  {
   "cell_type": "code",
   "execution_count": 77,
   "metadata": {},
   "outputs": [],
   "source": [
    "from sklearn.model_selection import train_test_split"
   ]
  },
  {
   "cell_type": "code",
   "execution_count": 78,
   "metadata": {},
   "outputs": [],
   "source": [
    "X_train, X_test, y_train, y_test = train_test_split(x, y, test_size=0.3, random_state=0)"
   ]
  },
  {
   "cell_type": "code",
   "execution_count": 79,
   "metadata": {},
   "outputs": [
    {
     "data": {
      "text/plain": [
       "StandardScaler(copy=True, with_mean=True, with_std=True)"
      ]
     },
     "execution_count": 79,
     "metadata": {},
     "output_type": "execute_result"
    }
   ],
   "source": [
    "scaler.fit(X_train.iloc[:,:2])"
   ]
  },
  {
   "cell_type": "code",
   "execution_count": 80,
   "metadata": {},
   "outputs": [],
   "source": [
    "X_train = scaler.transform(X_train.iloc[:,:2])"
   ]
  },
  {
   "cell_type": "code",
   "execution_count": 81,
   "metadata": {},
   "outputs": [],
   "source": [
    "X_test = scaler.transform(X_test.iloc[:,:2])"
   ]
  },
  {
   "cell_type": "code",
   "execution_count": 82,
   "metadata": {},
   "outputs": [],
   "source": [
    "# HYPERPARAMETER TUNING \n",
    "\n",
    "param_grid = param_grid = {'penalty':['l1','l2'],\n",
    "             'C':[1,2,3,4,5]}"
   ]
  },
  {
   "cell_type": "code",
   "execution_count": 83,
   "metadata": {},
   "outputs": [],
   "source": [
    "lr_cv = GridSearchCV(lr,param_grid,cv=5,n_jobs=-1)"
   ]
  },
  {
   "cell_type": "code",
   "execution_count": 84,
   "metadata": {},
   "outputs": [
    {
     "name": "stderr",
     "output_type": "stream",
     "text": [
      "C:\\Users\\suraj\\Anaconda3\\lib\\site-packages\\sklearn\\linear_model\\logistic.py:1228: UserWarning: 'n_jobs' > 1 does not have any effect when 'solver' is set to 'liblinear'. Got 'n_jobs' = -1.\n",
      "  \" = {}.\".format(self.n_jobs))\n"
     ]
    },
    {
     "data": {
      "text/plain": [
       "GridSearchCV(cv=5, error_score='raise',\n",
       "       estimator=LogisticRegression(C=1.0, class_weight=None, dual=False, fit_intercept=True,\n",
       "          intercept_scaling=1, max_iter=100, multi_class='ovr', n_jobs=-1,\n",
       "          penalty='l2', random_state=None, solver='liblinear', tol=0.0001,\n",
       "          verbose=0, warm_start=False),\n",
       "       fit_params=None, iid=True, n_jobs=-1,\n",
       "       param_grid={'penalty': ['l1', 'l2'], 'C': [1, 2, 3, 4, 5]},\n",
       "       pre_dispatch='2*n_jobs', refit=True, return_train_score='warn',\n",
       "       scoring=None, verbose=0)"
      ]
     },
     "execution_count": 84,
     "metadata": {},
     "output_type": "execute_result"
    }
   ],
   "source": [
    "lr_cv.fit(X_train,y_train)"
   ]
  },
  {
   "cell_type": "code",
   "execution_count": 85,
   "metadata": {},
   "outputs": [
    {
     "name": "stdout",
     "output_type": "stream",
     "text": [
      "{'C': 1, 'penalty': 'l1'} 0.7085714285714285\n"
     ]
    }
   ],
   "source": [
    "print(lr_cv.best_params_,lr_cv.best_score_)"
   ]
  },
  {
   "cell_type": "code",
   "execution_count": 86,
   "metadata": {},
   "outputs": [],
   "source": [
    "lr_best = lr_cv.best_estimator_"
   ]
  },
  {
   "cell_type": "code",
   "execution_count": 87,
   "metadata": {},
   "outputs": [],
   "source": [
    "lr_pred_train = lr_best.predict(X_train)"
   ]
  },
  {
   "cell_type": "code",
   "execution_count": 88,
   "metadata": {},
   "outputs": [],
   "source": [
    "lr_pred_test = lr_best.predict(X_test) "
   ]
  },
  {
   "cell_type": "code",
   "execution_count": 89,
   "metadata": {},
   "outputs": [
    {
     "name": "stdout",
     "output_type": "stream",
     "text": [
      "             precision    recall  f1-score   support\n",
      "\n",
      "          0       0.71      0.96      0.82       486\n",
      "          1       0.60      0.13      0.21       214\n",
      "\n",
      "avg / total       0.68      0.71      0.63       700\n",
      "\n"
     ]
    }
   ],
   "source": [
    "#FOR TRAIN DATA\n",
    "\n",
    "print(classification_report(y_train,lr_pred_train))"
   ]
  },
  {
   "cell_type": "code",
   "execution_count": 90,
   "metadata": {},
   "outputs": [
    {
     "name": "stdout",
     "output_type": "stream",
     "text": [
      "             precision    recall  f1-score   support\n",
      "\n",
      "          0       0.73      0.94      0.82       214\n",
      "          1       0.45      0.12      0.19        86\n",
      "\n",
      "avg / total       0.65      0.71      0.64       300\n",
      "\n"
     ]
    }
   ],
   "source": [
    "#FOR TEST DATA\n",
    "\n",
    "print(classification_report(y_test,lr_pred_test))"
   ]
  },
  {
   "cell_type": "code",
   "execution_count": 91,
   "metadata": {
    "scrolled": true
   },
   "outputs": [
    {
     "data": {
      "text/plain": [
       "array([[202,  12],\n",
       "       [ 76,  10]], dtype=int64)"
      ]
     },
     "execution_count": 91,
     "metadata": {},
     "output_type": "execute_result"
    }
   ],
   "source": [
    "confusion_matrix(y_test,lr_pred_test)"
   ]
  },
  {
   "cell_type": "code",
   "execution_count": 92,
   "metadata": {
    "scrolled": true
   },
   "outputs": [
    {
     "data": {
      "image/png": "[encoded data removed]",
      "text/plain": [
       "<Figure size 432x288 with 1 Axes>"
      ]
     },
     "metadata": {},
     "output_type": "display_data"
    }
   ],
   "source": [
    "from sklearn import metrics\n",
    "probs = lr_best.predict_proba(X_test)\n",
    "preds = probs[:,1]\n",
    "fpr, tpr, threshold = metrics.roc_curve(y_test, preds)\n",
    "roc_auc = metrics.auc(fpr, tpr)\n",
    "\n",
    "import matplotlib.pyplot as plt\n",
    "plt.title('Receiver Operating Characteristic for LR')\n",
    "plt.plot(fpr, tpr, 'b', label = 'AUC = %0.2f' % roc_auc)\n",
    "plt.legend(loc = 'lower right')\n",
    "plt.plot([0, 1], [0, 1],'r--')\n",
    "plt.xlim([0, 1])\n",
    "plt.ylim([0, 1])\n",
    "plt.ylabel('True Positive Rate')\n",
    "plt.xlabel('False Positive Rate')\n",
    "plt.show()"
   ]
  },
  {
   "cell_type": "markdown",
   "metadata": {},
   "source": [
    "DECISION TREE CLASSIFIER"
   ]
  },
  {
   "cell_type": "code",
   "execution_count": 93,
   "metadata": {},
   "outputs": [],
   "source": [
    "from sklearn.tree import DecisionTreeClassifier"
   ]
  },
  {
   "cell_type": "code",
   "execution_count": 94,
   "metadata": {},
   "outputs": [],
   "source": [
    "dt = DecisionTreeClassifier()"
   ]
  },
  {
   "cell_type": "code",
   "execution_count": 95,
   "metadata": {},
   "outputs": [],
   "source": [
    "param_grid = {'max_depth': [10, 20, 30, 40],\n",
    " 'max_features': ['auto', 'sqrt','log2'],}"
   ]
  },
  {
   "cell_type": "code",
   "execution_count": 96,
   "metadata": {},
   "outputs": [],
   "source": [
    "dt_cv = GridSearchCV(dt,param_grid,cv=5,n_jobs=-1)"
   ]
  },
  {
   "cell_type": "code",
   "execution_count": 97,
   "metadata": {},
   "outputs": [
    {
     "data": {
      "text/plain": [
       "GridSearchCV(cv=5, error_score='raise',\n",
       "       estimator=DecisionTreeClassifier(class_weight=None, criterion='gini', max_depth=None,\n",
       "            max_features=None, max_leaf_nodes=None,\n",
       "            min_impurity_decrease=0.0, min_impurity_split=None,\n",
       "            min_samples_leaf=1, min_samples_split=2,\n",
       "            min_weight_fraction_leaf=0.0, presort=False, random_state=None,\n",
       "            splitter='best'),\n",
       "       fit_params=None, iid=True, n_jobs=-1,\n",
       "       param_grid={'max_depth': [10, 20, 30, 40], 'max_features': ['auto', 'sqrt', 'log2']},\n",
       "       pre_dispatch='2*n_jobs', refit=True, return_train_score='warn',\n",
       "       scoring=None, verbose=0)"
      ]
     },
     "execution_count": 97,
     "metadata": {},
     "output_type": "execute_result"
    }
   ],
   "source": [
    "dt_cv.fit(X_train,y_train)"
   ]
  },
  {
   "cell_type": "code",
   "execution_count": 98,
   "metadata": {},
   "outputs": [
    {
     "name": "stdout",
     "output_type": "stream",
     "text": [
      "{'max_depth': 10, 'max_features': 'auto'} 0.6871428571428572\n"
     ]
    }
   ],
   "source": [
    "print(dt_cv.best_params_,dt_cv.best_score_)"
   ]
  },
  {
   "cell_type": "code",
   "execution_count": 99,
   "metadata": {},
   "outputs": [],
   "source": [
    "dt_best = dt_cv.best_estimator_"
   ]
  },
  {
   "cell_type": "code",
   "execution_count": 100,
   "metadata": {},
   "outputs": [],
   "source": [
    "dt_pred_train = dt_best.predict(X_train)"
   ]
  },
  {
   "cell_type": "code",
   "execution_count": 101,
   "metadata": {},
   "outputs": [],
   "source": [
    "dt_pred_test = dt_best.predict(X_test)"
   ]
  },
  {
   "cell_type": "code",
   "execution_count": 102,
   "metadata": {},
   "outputs": [
    {
     "name": "stdout",
     "output_type": "stream",
     "text": [
      "             precision    recall  f1-score   support\n",
      "\n",
      "          0       0.72      0.97      0.83       486\n",
      "          1       0.67      0.14      0.23       214\n",
      "\n",
      "avg / total       0.70      0.72      0.64       700\n",
      "\n"
     ]
    }
   ],
   "source": [
    "#FOR TRAIN DATA\n",
    "\n",
    "print(classification_report(y_train,dt_pred_train))"
   ]
  },
  {
   "cell_type": "code",
   "execution_count": 103,
   "metadata": {
    "scrolled": true
   },
   "outputs": [
    {
     "name": "stdout",
     "output_type": "stream",
     "text": [
      "             precision    recall  f1-score   support\n",
      "\n",
      "          0       0.73      0.95      0.83       214\n",
      "          1       0.52      0.14      0.22        86\n",
      "\n",
      "avg / total       0.67      0.72      0.65       300\n",
      "\n"
     ]
    }
   ],
   "source": [
    "#FOR TEST DATA\n",
    "\n",
    "print(classification_report(y_test,dt_pred_test))"
   ]
  },
  {
   "cell_type": "code",
   "execution_count": 104,
   "metadata": {
    "scrolled": true
   },
   "outputs": [
    {
     "name": "stdout",
     "output_type": "stream",
     "text": [
      "[[203  11]\n",
      " [ 74  12]]\n"
     ]
    }
   ],
   "source": [
    "print(confusion_matrix(y_test,dt_pred_test))"
   ]
  },
  {
   "cell_type": "markdown",
   "metadata": {},
   "source": [
    "GRADIENT BOOSTING CLASSIFIER"
   ]
  },
  {
   "cell_type": "code",
   "execution_count": 105,
   "metadata": {},
   "outputs": [],
   "source": [
    "from sklearn.ensemble import GradientBoostingClassifier"
   ]
  },
  {
   "cell_type": "code",
   "execution_count": 106,
   "metadata": {},
   "outputs": [],
   "source": [
    "GBC = GradientBoostingClassifier()"
   ]
  },
  {
   "cell_type": "code",
   "execution_count": 107,
   "metadata": {},
   "outputs": [
    {
     "data": {
      "image/png": "[encoded data removed]",
      "text/plain": [
       "<Figure size 432x288 with 1 Axes>"
      ]
     },
     "metadata": {},
     "output_type": "display_data"
    }
   ],
   "source": [
    "probs = dt_best.predict_proba(X_test)\n",
    "preds = probs[:,1]\n",
    "fpr, tpr, threshold = metrics.roc_curve(y_test, preds)\n",
    "roc_auc = metrics.auc(fpr, tpr)\n",
    "\n",
    "import matplotlib.pyplot as plt\n",
    "plt.title('Receiver Operating Characteristic for Decision Tree')\n",
    "plt.plot(fpr, tpr, 'b', label = 'AUC = %0.2f' % roc_auc)\n",
    "plt.legend(loc = 'lower right')\n",
    "plt.plot([0, 1], [0, 1],'r--')\n",
    "plt.xlim([0, 1])\n",
    "plt.ylim([0, 1])\n",
    "plt.ylabel('True Positive Rate')\n",
    "plt.xlabel('False Positive Rate')\n",
    "plt.show()"
   ]
  },
  {
   "cell_type": "code",
   "execution_count": 108,
   "metadata": {},
   "outputs": [],
   "source": [
    "from sklearn.ensemble import GradientBoostingClassifier"
   ]
  },
  {
   "cell_type": "code",
   "execution_count": 109,
   "metadata": {},
   "outputs": [],
   "source": [
    "GBC = GradientBoostingClassifier()"
   ]
  },
  {
   "cell_type": "code",
   "execution_count": 110,
   "metadata": {},
   "outputs": [],
   "source": [
    "param_grid = {\"loss\":['deviance', 'exponential'],\n",
    "              \"n_estimators\" : [100,150,200,250],\n",
    "              \"learning_rate\" : [0.1,0.5,0.9,1]}"
   ]
  },
  {
   "cell_type": "code",
   "execution_count": 111,
   "metadata": {},
   "outputs": [],
   "source": [
    "GBC_cv = GridSearchCV(GBC,param_grid,cv=5,n_jobs=-1)"
   ]
  },
  {
   "cell_type": "code",
   "execution_count": 112,
   "metadata": {},
   "outputs": [
    {
     "data": {
      "text/plain": [
       "GridSearchCV(cv=5, error_score='raise',\n",
       "       estimator=GradientBoostingClassifier(criterion='friedman_mse', init=None,\n",
       "              learning_rate=0.1, loss='deviance', max_depth=3,\n",
       "              max_features=None, max_leaf_nodes=None,\n",
       "              min_impurity_decrease=0.0, min_impurity_split=None,\n",
       "              min_samples_leaf=1, min_samples_split=2,\n",
       "              min_weight_fraction_leaf=0.0, n_estimators=100,\n",
       "              presort='auto', random_state=None, subsample=1.0, verbose=0,\n",
       "              warm_start=False),\n",
       "       fit_params=None, iid=True, n_jobs=-1,\n",
       "       param_grid={'loss': ['deviance', 'exponential'], 'n_estimators': [100, 150, 200, 250], 'learning_rate': [0.1, 0.5, 0.9, 1]},\n",
       "       pre_dispatch='2*n_jobs', refit=True, return_train_score='warn',\n",
       "       scoring=None, verbose=0)"
      ]
     },
     "execution_count": 112,
     "metadata": {},
     "output_type": "execute_result"
    }
   ],
   "source": [
    "GBC_cv.fit(X_train,y_train)"
   ]
  },
  {
   "cell_type": "code",
   "execution_count": 113,
   "metadata": {},
   "outputs": [
    {
     "name": "stdout",
     "output_type": "stream",
     "text": [
      "{'learning_rate': 0.1, 'loss': 'exponential', 'n_estimators': 100} 0.6957142857142857\n"
     ]
    }
   ],
   "source": [
    "print(GBC_cv.best_params_,GBC_cv.best_score_)"
   ]
  },
  {
   "cell_type": "code",
   "execution_count": 114,
   "metadata": {},
   "outputs": [],
   "source": [
    "GBC_best = GBC_cv.best_estimator_"
   ]
  },
  {
   "cell_type": "code",
   "execution_count": 115,
   "metadata": {},
   "outputs": [],
   "source": [
    "GBC_pred_train = GBC_best.predict(X_train)"
   ]
  },
  {
   "cell_type": "code",
   "execution_count": 116,
   "metadata": {},
   "outputs": [],
   "source": [
    "GBC_pred_test = GBC_best.predict(X_test)"
   ]
  },
  {
   "cell_type": "code",
   "execution_count": 117,
   "metadata": {},
   "outputs": [
    {
     "name": "stdout",
     "output_type": "stream",
     "text": [
      "             precision    recall  f1-score   support\n",
      "\n",
      "          0       0.72      0.97      0.82       486\n",
      "          1       0.66      0.13      0.21       214\n",
      "\n",
      "avg / total       0.70      0.71      0.64       700\n",
      "\n"
     ]
    }
   ],
   "source": [
    "#FOR TRAIN DATA\n",
    "\n",
    "print(classification_report(y_train,GBC_pred_train))"
   ]
  },
  {
   "cell_type": "code",
   "execution_count": 118,
   "metadata": {},
   "outputs": [
    {
     "name": "stdout",
     "output_type": "stream",
     "text": [
      "             precision    recall  f1-score   support\n",
      "\n",
      "          0       0.73      0.95      0.82       214\n",
      "          1       0.48      0.12      0.19        86\n",
      "\n",
      "avg / total       0.66      0.71      0.64       300\n",
      "\n"
     ]
    }
   ],
   "source": [
    "#FOR TEST DATA\n",
    "\n",
    "print(classification_report(y_test,GBC_pred_test))"
   ]
  },
  {
   "cell_type": "code",
   "execution_count": 119,
   "metadata": {},
   "outputs": [
    {
     "name": "stdout",
     "output_type": "stream",
     "text": [
      "[[203  11]\n",
      " [ 76  10]]\n"
     ]
    }
   ],
   "source": [
    "print(confusion_matrix(y_test,GBC_pred_test))"
   ]
  },
  {
   "cell_type": "code",
   "execution_count": 120,
   "metadata": {
    "scrolled": true
   },
   "outputs": [
    {
     "data": {
      "image/png": "[encoded data removed]",
      "text/plain": [
       "<Figure size 432x288 with 1 Axes>"
      ]
     },
     "metadata": {},
     "output_type": "display_data"
    }
   ],
   "source": [
    "probs = GBC_best.predict_proba(X_test)\n",
    "preds = probs[:,1]\n",
    "fpr, tpr, threshold = metrics.roc_curve(y_test, preds)\n",
    "roc_auc = metrics.auc(fpr, tpr)\n",
    "\n",
    "import matplotlib.pyplot as plt\n",
    "plt.title('Receiver Operating Characteristic for Gradient Boosting Classifier')\n",
    "plt.plot(fpr, tpr, 'b', label = 'AUC = %0.2f' % roc_auc)\n",
    "plt.legend(loc = 'lower right')\n",
    "plt.plot([0, 1], [0, 1],'r--')\n",
    "plt.xlim([0, 1])\n",
    "plt.ylim([0, 1])\n",
    "plt.ylabel('True Positive Rate')\n",
    "plt.xlabel('False Positive Rate')\n",
    "plt.show()"
   ]
  },
  {
   "cell_type": "markdown",
   "metadata": {},
   "source": [
    "RANDOM FOREST CLASSIFIER"
   ]
  },
  {
   "cell_type": "code",
   "execution_count": 121,
   "metadata": {},
   "outputs": [],
   "source": [
    "from sklearn.ensemble import RandomForestClassifier"
   ]
  },
  {
   "cell_type": "code",
   "execution_count": 122,
   "metadata": {},
   "outputs": [],
   "source": [
    "rfc = RandomForestClassifier()"
   ]
  },
  {
   "cell_type": "code",
   "execution_count": 123,
   "metadata": {},
   "outputs": [],
   "source": [
    "param_grid = {\n",
    " 'max_depth': [10, 20, 30, 40, 50,],\n",
    " 'max_features': ['sqrt','log2'],\n",
    " 'n_estimators': [100,150,200,250,300]}"
   ]
  },
  {
   "cell_type": "code",
   "execution_count": 124,
   "metadata": {},
   "outputs": [],
   "source": [
    "rfc_cv = GridSearchCV(rfc,param_grid,cv=5,n_jobs=-1)"
   ]
  },
  {
   "cell_type": "code",
   "execution_count": 125,
   "metadata": {},
   "outputs": [
    {
     "data": {
      "text/plain": [
       "GridSearchCV(cv=5, error_score='raise',\n",
       "       estimator=RandomForestClassifier(bootstrap=True, class_weight=None, criterion='gini',\n",
       "            max_depth=None, max_features='auto', max_leaf_nodes=None,\n",
       "            min_impurity_decrease=0.0, min_impurity_split=None,\n",
       "            min_samples_leaf=1, min_samples_split=2,\n",
       "            min_weight_fraction_leaf=0.0, n_estimators=10, n_jobs=1,\n",
       "            oob_score=False, random_state=None, verbose=0,\n",
       "            warm_start=False),\n",
       "       fit_params=None, iid=True, n_jobs=-1,\n",
       "       param_grid={'max_depth': [10, 20, 30, 40, 50], 'max_features': ['sqrt', 'log2'], 'n_estimators': [100, 150, 200, 250, 300]},\n",
       "       pre_dispatch='2*n_jobs', refit=True, return_train_score='warn',\n",
       "       scoring=None, verbose=0)"
      ]
     },
     "execution_count": 125,
     "metadata": {},
     "output_type": "execute_result"
    }
   ],
   "source": [
    "rfc_cv.fit(X_train,y_train)"
   ]
  },
  {
   "cell_type": "code",
   "execution_count": 126,
   "metadata": {},
   "outputs": [
    {
     "name": "stdout",
     "output_type": "stream",
     "text": [
      "{'max_depth': 30, 'max_features': 'log2', 'n_estimators': 200} 0.6914285714285714\n"
     ]
    }
   ],
   "source": [
    "print(rfc_cv.best_params_,rfc_cv.best_score_)"
   ]
  },
  {
   "cell_type": "code",
   "execution_count": 127,
   "metadata": {},
   "outputs": [],
   "source": [
    "rfc_best = rfc_cv.best_estimator_"
   ]
  },
  {
   "cell_type": "code",
   "execution_count": 128,
   "metadata": {},
   "outputs": [],
   "source": [
    "rfc_pred_train = rfc_best.predict(X_train)"
   ]
  },
  {
   "cell_type": "code",
   "execution_count": 129,
   "metadata": {},
   "outputs": [],
   "source": [
    "rfc_pred_test = rfc_best.predict(X_test)"
   ]
  },
  {
   "cell_type": "code",
   "execution_count": 130,
   "metadata": {},
   "outputs": [
    {
     "name": "stdout",
     "output_type": "stream",
     "text": [
      "             precision    recall  f1-score   support\n",
      "\n",
      "          0       0.72      0.97      0.83       486\n",
      "          1       0.67      0.14      0.23       214\n",
      "\n",
      "avg / total       0.70      0.72      0.64       700\n",
      "\n"
     ]
    }
   ],
   "source": [
    "#FOR TRAIN DATA\n",
    "\n",
    "print(classification_report(y_train,rfc_pred_train))"
   ]
  },
  {
   "cell_type": "code",
   "execution_count": 131,
   "metadata": {},
   "outputs": [
    {
     "name": "stdout",
     "output_type": "stream",
     "text": [
      "             precision    recall  f1-score   support\n",
      "\n",
      "          0       0.73      0.95      0.83       214\n",
      "          1       0.50      0.13      0.20        86\n",
      "\n",
      "avg / total       0.66      0.71      0.65       300\n",
      "\n"
     ]
    }
   ],
   "source": [
    "#FOR TEST DATA\n",
    "\n",
    "print(classification_report(y_test,rfc_pred_test))"
   ]
  },
  {
   "cell_type": "code",
   "execution_count": 132,
   "metadata": {},
   "outputs": [
    {
     "name": "stdout",
     "output_type": "stream",
     "text": [
      "[[203  11]\n",
      " [ 75  11]]\n"
     ]
    }
   ],
   "source": [
    "print(confusion_matrix(y_test,rfc_pred_test))"
   ]
  },
  {
   "cell_type": "code",
   "execution_count": 133,
   "metadata": {
    "scrolled": false
   },
   "outputs": [
    {
     "data": {
      "image/png": "[encoded data removed]",
      "text/plain": [
       "<Figure size 432x288 with 1 Axes>"
      ]
     },
     "metadata": {},
     "output_type": "display_data"
    }
   ],
   "source": [
    "probs = rfc_best.predict_proba(X_test)\n",
    "preds = probs[:,1]\n",
    "fpr, tpr, threshold = metrics.roc_curve(y_test, preds)\n",
    "roc_auc = metrics.auc(fpr, tpr)\n",
    "\n",
    "import matplotlib.pyplot as plt\n",
    "plt.title('Receiver Operating Characteristic for Random Forest Classifier')\n",
    "plt.plot(fpr, tpr, 'b', label = 'AUC = %0.2f' % roc_auc)\n",
    "plt.legend(loc = 'lower right')\n",
    "plt.plot([0, 1], [0, 1],'r--')\n",
    "plt.xlim([0, 1])\n",
    "plt.ylim([0, 1])\n",
    "plt.ylabel('True Positive Rate')\n",
    "plt.xlabel('False Positive Rate')\n",
    "plt.show()"
   ]
  },
  {
   "cell_type": "markdown",
   "metadata": {},
   "source": [
    "XGBOOST CLASSIFIER"
   ]
  },
  {
   "cell_type": "code",
   "execution_count": 134,
   "metadata": {},
   "outputs": [],
   "source": [
    "from xgboost import XGBClassifier"
   ]
  },
  {
   "cell_type": "code",
   "execution_count": 135,
   "metadata": {},
   "outputs": [],
   "source": [
    "clf = XGBClassifier()"
   ]
  },
  {
   "cell_type": "code",
   "execution_count": 136,
   "metadata": {},
   "outputs": [
    {
     "data": {
      "text/plain": [
       "XGBClassifier(base_score=0.5, booster='gbtree', colsample_bylevel=1,\n",
       "       colsample_bytree=1, gamma=0, learning_rate=0.1, max_delta_step=0,\n",
       "       max_depth=3, min_child_weight=1, missing=None, n_estimators=100,\n",
       "       n_jobs=1, nthread=None, objective='binary:logistic', random_state=0,\n",
       "       reg_alpha=0, reg_lambda=1, scale_pos_weight=1, seed=None,\n",
       "       silent=True, subsample=1)"
      ]
     },
     "execution_count": 136,
     "metadata": {},
     "output_type": "execute_result"
    }
   ],
   "source": [
    "clf.fit(X_train,y_train)"
   ]
  },
  {
   "cell_type": "code",
   "execution_count": 137,
   "metadata": {},
   "outputs": [
    {
     "name": "stderr",
     "output_type": "stream",
     "text": [
      "C:\\Users\\suraj\\Anaconda3\\lib\\site-packages\\sklearn\\preprocessing\\label.py:151: DeprecationWarning: The truth value of an empty array is ambiguous. Returning False, but in future this will result in an error. Use `array.size > 0` to check that an array is not empty.\n",
      "  if diff:\n"
     ]
    }
   ],
   "source": [
    "xgb_pred_train = clf.predict(X_train)"
   ]
  },
  {
   "cell_type": "code",
   "execution_count": 138,
   "metadata": {},
   "outputs": [
    {
     "name": "stderr",
     "output_type": "stream",
     "text": [
      "C:\\Users\\suraj\\Anaconda3\\lib\\site-packages\\sklearn\\preprocessing\\label.py:151: DeprecationWarning: The truth value of an empty array is ambiguous. Returning False, but in future this will result in an error. Use `array.size > 0` to check that an array is not empty.\n",
      "  if diff:\n"
     ]
    }
   ],
   "source": [
    "xgb_pred_test = clf.predict(X_test)"
   ]
  },
  {
   "cell_type": "code",
   "execution_count": 139,
   "metadata": {},
   "outputs": [
    {
     "name": "stdout",
     "output_type": "stream",
     "text": [
      "             precision    recall  f1-score   support\n",
      "\n",
      "          0       0.72      0.96      0.82       486\n",
      "          1       0.61      0.13      0.22       214\n",
      "\n",
      "avg / total       0.68      0.71      0.64       700\n",
      "\n"
     ]
    }
   ],
   "source": [
    "#FOR TRAIN\n",
    "\n",
    "print(classification_report(y_train,xgb_pred_train))"
   ]
  },
  {
   "cell_type": "code",
   "execution_count": 140,
   "metadata": {},
   "outputs": [
    {
     "name": "stdout",
     "output_type": "stream",
     "text": [
      "             precision    recall  f1-score   support\n",
      "\n",
      "          0       0.73      0.94      0.82       214\n",
      "          1       0.50      0.14      0.22        86\n",
      "\n",
      "avg / total       0.67      0.71      0.65       300\n",
      "\n"
     ]
    }
   ],
   "source": [
    "#FOR TEST\n",
    "\n",
    "print(classification_report(y_test,xgb_pred_test))"
   ]
  },
  {
   "cell_type": "code",
   "execution_count": 141,
   "metadata": {},
   "outputs": [
    {
     "data": {
      "image/png": "[encoded data removed]",
      "text/plain": [
       "<Figure size 432x288 with 1 Axes>"
      ]
     },
     "metadata": {},
     "output_type": "display_data"
    }
   ],
   "source": [
    "probs = clf.predict_proba(X_test)\n",
    "preds = probs[:,1]\n",
    "fpr, tpr, threshold = metrics.roc_curve(y_test, preds)\n",
    "roc_auc = metrics.auc(fpr, tpr)\n",
    "\n",
    "import matplotlib.pyplot as plt\n",
    "plt.title('Receiver Operating Characteristic for Random Forest Classifier')\n",
    "plt.plot(fpr, tpr, 'b', label = 'AUC = %0.2f' % roc_auc)\n",
    "plt.legend(loc = 'lower right')\n",
    "plt.plot([0, 1], [0, 1],'r--')\n",
    "plt.xlim([0, 1])\n",
    "plt.ylim([0, 1])\n",
    "plt.ylabel('True Positive Rate')\n",
    "plt.xlabel('False Positive Rate')\n",
    "plt.show()"
   ]
  },
  {
   "cell_type": "code",
   "execution_count": 142,
   "metadata": {},
   "outputs": [
    {
     "data": {
      "text/plain": [
       "array([[202,  12],\n",
       "       [ 74,  12]], dtype=int64)"
      ]
     },
     "execution_count": 142,
     "metadata": {},
     "output_type": "execute_result"
    }
   ],
   "source": [
    "confusion_matrix(y_test,xgb_pred_test)"
   ]
  },
  {
   "cell_type": "code",
   "execution_count": null,
   "metadata": {},
   "outputs": [],
   "source": []
  }
 ],
 "metadata": {
  "kernelspec": {
   "display_name": "Python 3",
   "language": "python",
   "name": "python3"
  },
  "language_info": {
   "codemirror_mode": {
    "name": "ipython",
    "version": 3
   },
   "file_extension": ".py",
   "mimetype": "text/x-python",
   "name": "python",
   "nbconvert_exporter": "python",
   "pygments_lexer": "ipython3",
   "version": "3.6.5"
  }
 },
 "nbformat": 4,
 "nbformat_minor": 2
}
